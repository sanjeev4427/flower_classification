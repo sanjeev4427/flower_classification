{
  "cells": [
    {
      "cell_type": "markdown",
      "metadata": {
        "id": "view-in-github",
        "colab_type": "text"
      },
      "source": [
        "<a href=\"https://colab.research.google.com/github/sanjeev4427/flower_classification/blob/main/17flowers_resnet9.ipynb\" target=\"_parent\"><img src=\"https://colab.research.google.com/assets/colab-badge.svg\" alt=\"Open In Colab\"/></a>"
      ]
    },
    {
      "cell_type": "markdown",
      "metadata": {
        "id": "glYHP4-7Jp--"
      },
      "source": [
        "# 5 steps to identify your favourite flower using AI \n",
        "\n",
        "### Assemble your tools\n",
        "\n",
        "Are you excited to go on a hiking trail to identify your favourite flower? Lets assemble our digital tools. We will buiild a Deep Learning algorithm called Convolutional Neural Network using PyTorch. \n",
        "What is PyTorch? \n",
        "PyTorch is a python library which makes it easier to develop AI algorithm. These are the five major steps:\n",
        "\n",
        "\n",
        "*   Data (pictures of your favourite flowers)\n",
        "*   Data transformation\n",
        "\n",
        "*   Building model \n",
        "*   Training model\n",
        "*   Making predictions\n",
        "\n",
        "# Set up device\n",
        "It is recommended to use google colab for this project. This is the fastest way to start as it already have all the necessary libraries installed. Follow this link to learn more https://colab.research.google.com/. We will be using the free GPU resources of colab so change your runtime to GPU. If are are using your own computer then install PyTorch by uncommenting the following line of codes."
      ]
    },
    {
      "cell_type": "code",
      "execution_count": null,
      "metadata": {
        "id": "sFBq-ur9Jp-_"
      },
      "outputs": [],
      "source": [
        "# Uncomment and run the appropriate command for your operating system, if required\n",
        "\n",
        "# Linux / Binder / Windows (No GPU)\n",
        "# !pip install numpy matplotlib torch==1.7.0+cpu torchvision==0.8.1+cpu torchaudio==0.7.0 -f https://download.pytorch.org/whl/torch_stable.html\n",
        "\n",
        "# Linux / Windows (GPU)\n",
        "# pip install torch==1.7.1+cu110 torchvision==0.8.2+cu110 torchaudio==0.7.2 -f https://download.pytorch.org/whl/torch_stable.html\n",
        " \n",
        "# MacOS (NO GPU)\n",
        "# !pip install numpy matplotlib torch torchvision torchaudio"
      ]
    },
    {
      "cell_type": "markdown",
      "metadata": {
        "id": "gYaGeH7ILhNw"
      },
      "source": [
        "# Get your data\n",
        "Now you have option to click your own pictures of flowers and seperate them nicely into folders or to save time download ready to use datasets from the following link. If you are using colab the run the following code block to downlod the data. This requires you to set up your account on kaggle. Follow this link to know more. https://www.kaggle.com/general/74235 "
      ]
    },
    {
      "cell_type": "code",
      "execution_count": null,
      "metadata": {
        "id": "gSYbryZOGdo1"
      },
      "outputs": [],
      "source": [
        "# # how to dowload datasets from kaggle\n",
        "# dataset_url = 'https://www.kaggle.com/general/156610'"
      ]
    },
    {
      "cell_type": "code",
      "execution_count": null,
      "metadata": {
        "id": "dbyFWpj8Dum1"
      },
      "outputs": [],
      "source": [
        "# from google.colab import files\n",
        "\n",
        "# # files.upload() #this will prompt you to upload the kaggle.json\n",
        "# !ls -lha kaggle.json # make sure kaggle.json file is present\n",
        "# #Install kaggle API client\n",
        "# !pip install -q kaggle\n",
        "# !mkdir -p ~/.kaggle\n",
        "# !cp kaggle.json ~/.kaggle/\n",
        "# !chmod 600 /root/.kaggle/kaggle.json\n",
        "# # dowloading data from kaggle\n",
        "# # !kaggle datasets download -d datajameson/oxford-17-flowers-dataset \n",
        "# !unzip /content/gdrive/MyDrive/Mydata/oxford-17-flowers-dataset.zip -d /content/gdrive/MyDrive/Mydata/dataflowers/"
      ]
    },
    {
      "cell_type": "code",
      "source": [
        "from google.colab import drive\n",
        "drive.mount('/content/gdrive')"
      ],
      "metadata": {
        "colab": {
          "base_uri": "https://localhost:8080/"
        },
        "id": "tplN5kMAbxHv",
        "outputId": "47a0c9f8-b3f1-4051-95a2-46dfa40c455d"
      },
      "execution_count": 2,
      "outputs": [
        {
          "output_type": "stream",
          "name": "stdout",
          "text": [
            "Mounted at /content/gdrive\n"
          ]
        }
      ]
    },
    {
      "cell_type": "markdown",
      "metadata": {
        "id": "pFDuQfyYNQAZ"
      },
      "source": [
        "Import necessary libraries."
      ]
    },
    {
      "cell_type": "code",
      "execution_count": 3,
      "metadata": {
        "id": "TkOhVp1FJp_A"
      },
      "outputs": [],
      "source": [
        "import os\n",
        "import torch\n",
        "import torchvision\n",
        "import tarfile\n",
        "from torchvision.datasets.utils import download_url\n",
        "from torch.utils.data import random_split\n",
        "import torchvision.transforms as tt\n",
        "from torchvision.datasets import ImageFolder\n",
        "import matplotlib\n",
        "import matplotlib.pyplot as plt\n",
        "%matplotlib inline\n",
        "matplotlib.rcParams['figure.facecolor'] = '#ffffff'\n",
        "import torch.nn as nn\n",
        "import torch.nn.functional as F\n",
        "# from torchvision.transforms import ToTensor\n",
        "# import torchvision.transforms.functional as fn"
      ]
    },
    {
      "cell_type": "markdown",
      "metadata": {
        "id": "hgj4j9UPNw02"
      },
      "source": [
        "Let us see the different type of flowers (called classes) in our datasets."
      ]
    },
    {
      "cell_type": "code",
      "execution_count": 4,
      "metadata": {
        "colab": {
          "base_uri": "https://localhost:8080/"
        },
        "id": "Ewt8o-hiJp_C",
        "outputId": "4006be70-5338-418b-896f-5fd5898a3a12"
      },
      "outputs": [
        {
          "output_type": "stream",
          "name": "stdout",
          "text": [
            "['Bluebell', 'Buttercup', 'Coltsfoot', 'Cowslip', 'Crocus', 'Daffodil', 'Daisy', 'Dandelion', 'Fritillary', 'Iris', 'Lilyvalley', 'Pansy', 'Snowdrop', 'Sunflower', 'Tigerlily', 'Tulip', 'Windflower']\n"
          ]
        }
      ],
      "source": [
        "data_dir = '/content/gdrive/MyDrive/Mydata/dataflowers/Oxford 17 Flowers'\n",
        "classes = os.listdir(data_dir)\n",
        "print(classes)"
      ]
    },
    {
      "cell_type": "code",
      "execution_count": 5,
      "metadata": {
        "id": "AgPg2huRQA1u"
      },
      "outputs": [],
      "source": [
        "# function for number of images of each class\n",
        "def each_class_data(data_dir):\n",
        "    classes = os.listdir(data_dir)\n",
        "    label_list = [0]*len(classes)\n",
        "    dataset = ImageFolder(data_dir)\n",
        "    \n",
        "    for i in range(len(dataset)):\n",
        "      _,label = dataset[i]\n",
        "      label_list[label] += 1\n",
        "    [print(f'Number of {classes[i]} pictures: {val}') for i,val in enumerate(label_list)]"
      ]
    },
    {
      "cell_type": "code",
      "execution_count": 7,
      "metadata": {
        "colab": {
          "base_uri": "https://localhost:8080/",
          "height": 346
        },
        "id": "tulpmBqtHTos",
        "outputId": "c2450366-59bc-40ad-ab10-db580bc7b6a6"
      },
      "outputs": [
        {
          "output_type": "error",
          "ename": "KeyboardInterrupt",
          "evalue": "ignored",
          "traceback": [
            "\u001b[0;31m---------------------------------------------------------------------------\u001b[0m",
            "\u001b[0;31mKeyboardInterrupt\u001b[0m                         Traceback (most recent call last)",
            "\u001b[0;32m<ipython-input-7-1e9e1e36adc5>\u001b[0m in \u001b[0;36m<module>\u001b[0;34m\u001b[0m\n\u001b[1;32m      1\u001b[0m \u001b[0;31m# printing number of images of each class\u001b[0m\u001b[0;34m\u001b[0m\u001b[0;34m\u001b[0m\u001b[0;34m\u001b[0m\u001b[0m\n\u001b[0;32m----> 2\u001b[0;31m \u001b[0meach_class_data\u001b[0m\u001b[0;34m(\u001b[0m\u001b[0mdata_dir\u001b[0m\u001b[0;34m)\u001b[0m\u001b[0;34m\u001b[0m\u001b[0;34m\u001b[0m\u001b[0m\n\u001b[0m\u001b[1;32m      3\u001b[0m \u001b[0;34m\u001b[0m\u001b[0m\n",
            "\u001b[0;32m<ipython-input-5-b43146c746f4>\u001b[0m in \u001b[0;36meach_class_data\u001b[0;34m(data_dir)\u001b[0m\n\u001b[1;32m      6\u001b[0m \u001b[0;34m\u001b[0m\u001b[0m\n\u001b[1;32m      7\u001b[0m     \u001b[0;32mfor\u001b[0m \u001b[0mi\u001b[0m \u001b[0;32min\u001b[0m \u001b[0mrange\u001b[0m\u001b[0;34m(\u001b[0m\u001b[0mlen\u001b[0m\u001b[0;34m(\u001b[0m\u001b[0mdataset\u001b[0m\u001b[0;34m)\u001b[0m\u001b[0;34m)\u001b[0m\u001b[0;34m:\u001b[0m\u001b[0;34m\u001b[0m\u001b[0;34m\u001b[0m\u001b[0m\n\u001b[0;32m----> 8\u001b[0;31m       \u001b[0m_\u001b[0m\u001b[0;34m,\u001b[0m\u001b[0mlabel\u001b[0m \u001b[0;34m=\u001b[0m \u001b[0mdataset\u001b[0m\u001b[0;34m[\u001b[0m\u001b[0mi\u001b[0m\u001b[0;34m]\u001b[0m\u001b[0;34m\u001b[0m\u001b[0;34m\u001b[0m\u001b[0m\n\u001b[0m\u001b[1;32m      9\u001b[0m       \u001b[0mlabel_list\u001b[0m\u001b[0;34m[\u001b[0m\u001b[0mlabel\u001b[0m\u001b[0;34m]\u001b[0m \u001b[0;34m+=\u001b[0m \u001b[0;36m1\u001b[0m\u001b[0;34m\u001b[0m\u001b[0;34m\u001b[0m\u001b[0m\n\u001b[1;32m     10\u001b[0m     \u001b[0;34m[\u001b[0m\u001b[0mprint\u001b[0m\u001b[0;34m(\u001b[0m\u001b[0;34mf'Number of {classes[i]} pictures: {val}'\u001b[0m\u001b[0;34m)\u001b[0m \u001b[0;32mfor\u001b[0m \u001b[0mi\u001b[0m\u001b[0;34m,\u001b[0m\u001b[0mval\u001b[0m \u001b[0;32min\u001b[0m \u001b[0menumerate\u001b[0m\u001b[0;34m(\u001b[0m\u001b[0mlabel_list\u001b[0m\u001b[0;34m)\u001b[0m\u001b[0;34m]\u001b[0m\u001b[0;34m\u001b[0m\u001b[0;34m\u001b[0m\u001b[0m\n",
            "\u001b[0;32m/usr/local/lib/python3.7/dist-packages/torchvision/datasets/folder.py\u001b[0m in \u001b[0;36m__getitem__\u001b[0;34m(self, index)\u001b[0m\n\u001b[1;32m    228\u001b[0m         \"\"\"\n\u001b[1;32m    229\u001b[0m         \u001b[0mpath\u001b[0m\u001b[0;34m,\u001b[0m \u001b[0mtarget\u001b[0m \u001b[0;34m=\u001b[0m \u001b[0mself\u001b[0m\u001b[0;34m.\u001b[0m\u001b[0msamples\u001b[0m\u001b[0;34m[\u001b[0m\u001b[0mindex\u001b[0m\u001b[0;34m]\u001b[0m\u001b[0;34m\u001b[0m\u001b[0;34m\u001b[0m\u001b[0m\n\u001b[0;32m--> 230\u001b[0;31m         \u001b[0msample\u001b[0m \u001b[0;34m=\u001b[0m \u001b[0mself\u001b[0m\u001b[0;34m.\u001b[0m\u001b[0mloader\u001b[0m\u001b[0;34m(\u001b[0m\u001b[0mpath\u001b[0m\u001b[0;34m)\u001b[0m\u001b[0;34m\u001b[0m\u001b[0;34m\u001b[0m\u001b[0m\n\u001b[0m\u001b[1;32m    231\u001b[0m         \u001b[0;32mif\u001b[0m \u001b[0mself\u001b[0m\u001b[0;34m.\u001b[0m\u001b[0mtransform\u001b[0m \u001b[0;32mis\u001b[0m \u001b[0;32mnot\u001b[0m \u001b[0;32mNone\u001b[0m\u001b[0;34m:\u001b[0m\u001b[0;34m\u001b[0m\u001b[0;34m\u001b[0m\u001b[0m\n\u001b[1;32m    232\u001b[0m             \u001b[0msample\u001b[0m \u001b[0;34m=\u001b[0m \u001b[0mself\u001b[0m\u001b[0;34m.\u001b[0m\u001b[0mtransform\u001b[0m\u001b[0;34m(\u001b[0m\u001b[0msample\u001b[0m\u001b[0;34m)\u001b[0m\u001b[0;34m\u001b[0m\u001b[0;34m\u001b[0m\u001b[0m\n",
            "\u001b[0;32m/usr/local/lib/python3.7/dist-packages/torchvision/datasets/folder.py\u001b[0m in \u001b[0;36mdefault_loader\u001b[0;34m(path)\u001b[0m\n\u001b[1;32m    267\u001b[0m         \u001b[0;32mreturn\u001b[0m \u001b[0maccimage_loader\u001b[0m\u001b[0;34m(\u001b[0m\u001b[0mpath\u001b[0m\u001b[0;34m)\u001b[0m\u001b[0;34m\u001b[0m\u001b[0;34m\u001b[0m\u001b[0m\n\u001b[1;32m    268\u001b[0m     \u001b[0;32melse\u001b[0m\u001b[0;34m:\u001b[0m\u001b[0;34m\u001b[0m\u001b[0;34m\u001b[0m\u001b[0m\n\u001b[0;32m--> 269\u001b[0;31m         \u001b[0;32mreturn\u001b[0m \u001b[0mpil_loader\u001b[0m\u001b[0;34m(\u001b[0m\u001b[0mpath\u001b[0m\u001b[0;34m)\u001b[0m\u001b[0;34m\u001b[0m\u001b[0;34m\u001b[0m\u001b[0m\n\u001b[0m\u001b[1;32m    270\u001b[0m \u001b[0;34m\u001b[0m\u001b[0m\n\u001b[1;32m    271\u001b[0m \u001b[0;34m\u001b[0m\u001b[0m\n",
            "\u001b[0;32m/usr/local/lib/python3.7/dist-packages/torchvision/datasets/folder.py\u001b[0m in \u001b[0;36mpil_loader\u001b[0;34m(path)\u001b[0m\n\u001b[1;32m    246\u001b[0m     \u001b[0;31m# open path as file to avoid ResourceWarning (https://github.com/python-pillow/Pillow/issues/835)\u001b[0m\u001b[0;34m\u001b[0m\u001b[0;34m\u001b[0m\u001b[0;34m\u001b[0m\u001b[0m\n\u001b[1;32m    247\u001b[0m     \u001b[0;32mwith\u001b[0m \u001b[0mopen\u001b[0m\u001b[0;34m(\u001b[0m\u001b[0mpath\u001b[0m\u001b[0;34m,\u001b[0m \u001b[0;34m\"rb\"\u001b[0m\u001b[0;34m)\u001b[0m \u001b[0;32mas\u001b[0m \u001b[0mf\u001b[0m\u001b[0;34m:\u001b[0m\u001b[0;34m\u001b[0m\u001b[0;34m\u001b[0m\u001b[0m\n\u001b[0;32m--> 248\u001b[0;31m         \u001b[0mimg\u001b[0m \u001b[0;34m=\u001b[0m \u001b[0mImage\u001b[0m\u001b[0;34m.\u001b[0m\u001b[0mopen\u001b[0m\u001b[0;34m(\u001b[0m\u001b[0mf\u001b[0m\u001b[0;34m)\u001b[0m\u001b[0;34m\u001b[0m\u001b[0;34m\u001b[0m\u001b[0m\n\u001b[0m\u001b[1;32m    249\u001b[0m         \u001b[0;32mreturn\u001b[0m \u001b[0mimg\u001b[0m\u001b[0;34m.\u001b[0m\u001b[0mconvert\u001b[0m\u001b[0;34m(\u001b[0m\u001b[0;34m\"RGB\"\u001b[0m\u001b[0;34m)\u001b[0m\u001b[0;34m\u001b[0m\u001b[0;34m\u001b[0m\u001b[0m\n\u001b[1;32m    250\u001b[0m \u001b[0;34m\u001b[0m\u001b[0m\n",
            "\u001b[0;32m/usr/local/lib/python3.7/dist-packages/PIL/Image.py\u001b[0m in \u001b[0;36mopen\u001b[0;34m(fp, mode)\u001b[0m\n\u001b[1;32m   2850\u001b[0m         \u001b[0mexclusive_fp\u001b[0m \u001b[0;34m=\u001b[0m \u001b[0;32mTrue\u001b[0m\u001b[0;34m\u001b[0m\u001b[0;34m\u001b[0m\u001b[0m\n\u001b[1;32m   2851\u001b[0m \u001b[0;34m\u001b[0m\u001b[0m\n\u001b[0;32m-> 2852\u001b[0;31m     \u001b[0mprefix\u001b[0m \u001b[0;34m=\u001b[0m \u001b[0mfp\u001b[0m\u001b[0;34m.\u001b[0m\u001b[0mread\u001b[0m\u001b[0;34m(\u001b[0m\u001b[0;36m16\u001b[0m\u001b[0;34m)\u001b[0m\u001b[0;34m\u001b[0m\u001b[0;34m\u001b[0m\u001b[0m\n\u001b[0m\u001b[1;32m   2853\u001b[0m \u001b[0;34m\u001b[0m\u001b[0m\n\u001b[1;32m   2854\u001b[0m     \u001b[0mpreinit\u001b[0m\u001b[0;34m(\u001b[0m\u001b[0;34m)\u001b[0m\u001b[0;34m\u001b[0m\u001b[0;34m\u001b[0m\u001b[0m\n",
            "\u001b[0;31mKeyboardInterrupt\u001b[0m: "
          ]
        }
      ],
      "source": [
        "# printing number of images of each class \n",
        "each_class_data(data_dir)\n",
        "\n"
      ]
    },
    {
      "cell_type": "markdown",
      "metadata": {
        "id": "DgG9_EIulI8q"
      },
      "source": [
        "Let us see some examples of our flower images. "
      ]
    },
    {
      "cell_type": "code",
      "execution_count": 8,
      "metadata": {
        "id": "_kV8tnp5jhCG"
      },
      "outputs": [],
      "source": [
        "def show_example(img, label):\n",
        "    dataset_img = ImageFolder(data_dir)\n",
        "    print('Label: ', dataset_img.classes[label], \"(\"+str(label)+\")\")\n",
        "    plt.imshow(img)\n",
        "    print(img.size)\n",
        "\n",
        "# show_example(*dataset_img[24])"
      ]
    },
    {
      "cell_type": "markdown",
      "metadata": {
        "id": "9egA936ISs7p"
      },
      "source": [
        "# Data transformation \n",
        "\n",
        "Next step is to transform the data in a way that it is easier to train and is more general. These are the data transformation steps used:\n",
        "* Resizing \n",
        "* Normalising \n",
        "* Horizontal flip\n",
        "* Cropping \n",
        "* Converting to tensor"
      ]
    },
    {
      "cell_type": "code",
      "execution_count": 9,
      "metadata": {
        "id": "zUH7ax8x_cms"
      },
      "outputs": [],
      "source": [
        "# Data transforms (normalization & data augmentation)\n",
        "stats = ([0.485, 0.456, 0.406], [0.229, 0.224, 0.225]) # how to get these values\n",
        "dataset_tfms = tt.Compose([tt.Resize(size=(32,32)),\n",
        "                         tt.RandomCrop(32, padding=4, padding_mode='reflect'), \n",
        "                         tt.RandomHorizontalFlip(), \n",
        "                         # tt.RandomRotate\n",
        "                        #  tt.RandomResizedCrop(256, scale=(0.5,0.9), ratio=(1, 1)), \n",
        "                         # tt.ColorJitter(brightness=0.1, contrast=0.1, saturation=0.1, hue=0.1),\n",
        "                         tt.ToTensor(), \n",
        "                         tt.Normalize(*stats,inplace=True)])\n",
        "                         \n",
        "# valid_tfms = tt.Compose([tt.ToTensor(), tt.Normalize(*stats)])\n",
        "\n",
        "#applying data transformation \n",
        "dataset = ImageFolder(data_dir, dataset_tfms)"
      ]
    },
    {
      "cell_type": "markdown",
      "metadata": {
        "id": "-vr8femqdp0V"
      },
      "source": [
        "Splitting up data into training set, validation set and test set. \n",
        "1. **Training set** - used to train the model i.e. compute the loss and adjust the weights of the model using gradient descent.\n",
        "2. **Validation set** - used to evaluate the model while training, adjust hyperparameters (learning rate etc.) and pick the best version of the model.\n",
        "3. **Test set** - used to compare different models, or different types of modeling approaches, and report the final accuracy of the model.\n",
        "\n",
        "Since there's no predefined validation set and test set, we can set aside 20 percent of the dataset to be used as the validation set and 10 percent of dataset as test set remaining 70 percent will be training set. We'll use the `random_split` helper method from PyTorch to do this. To ensure that we always create the same validation set, we'll also set a seed for the random number generator."
      ]
    },
    {
      "cell_type": "code",
      "execution_count": 10,
      "metadata": {
        "id": "MSVGdRK3Jp_J"
      },
      "outputs": [],
      "source": [
        "random_seed = 42\n",
        "torch.manual_seed(random_seed);"
      ]
    },
    {
      "cell_type": "code",
      "execution_count": 11,
      "metadata": {
        "id": "aR11xcbM_r94"
      },
      "outputs": [],
      "source": [
        "#splitting data into train, valid, test data\n",
        "def data_split(dataset):\n",
        "  train_size = int(0.7*len(dataset))\n",
        "  valid_size = int(0.2*len(dataset))\n",
        "  test_size = len(dataset) - (train_size + valid_size)\n",
        "  \n",
        "  train_dataset, valid_dataset, test_dataset = random_split(dataset,[train_size, valid_size, test_size])\n",
        "  # train_dataset, valid_dataset = random_split(train_valid_dataset, [train_size, valid_size])\n",
        "  return train_dataset, valid_dataset, test_dataset\n",
        "train_ds, val_ds, test_ds = data_split(dataset)"
      ]
    },
    {
      "cell_type": "code",
      "execution_count": 12,
      "metadata": {
        "colab": {
          "base_uri": "https://localhost:8080/"
        },
        "id": "z54Sk-zqdEiD",
        "outputId": "36b19e85-7273-45e9-b649-d94f78207a7f"
      },
      "outputs": [
        {
          "output_type": "stream",
          "name": "stdout",
          "text": [
            "951 272 137\n"
          ]
        }
      ],
      "source": [
        "print(len(train_ds), len(val_ds), len(test_ds))"
      ]
    },
    {
      "cell_type": "code",
      "execution_count": 61,
      "metadata": {
        "id": "7wM8WQFfJp_M"
      },
      "outputs": [],
      "source": [
        "from torch.utils.data.dataloader import DataLoader\n",
        "\n",
        "batch_size = 32"
      ]
    },
    {
      "cell_type": "code",
      "execution_count": 27,
      "metadata": {
        "id": "lWXX_hHGJp_M"
      },
      "outputs": [],
      "source": [
        "train_dl = DataLoader(train_ds, batch_size, shuffle=True, num_workers=2, pin_memory=True)\n",
        "val_dl = DataLoader(val_ds, batch_size*2, num_workers=4, pin_memory=True)"
      ]
    },
    {
      "cell_type": "code",
      "execution_count": 28,
      "metadata": {
        "id": "xEYh1NZxJp_N"
      },
      "outputs": [],
      "source": [
        "# from torchvision.utils import make_grid\n",
        "\n",
        "# def show_batch(dl):\n",
        "#     for images, labels in dl:\n",
        "#         fig, ax = plt.subplots(figsize=(15, 15))\n",
        "#         ax.set_xticks([]); ax.set_yticks([])\n",
        "#         ax.imshow(make_grid(images, nrow=15).permute(1, 2, 0))\n",
        "#         break"
      ]
    },
    {
      "cell_type": "code",
      "execution_count": 29,
      "metadata": {
        "id": "IMSe7bd8Jp_N"
      },
      "outputs": [],
      "source": [
        "# show_batch(train_dl)"
      ]
    },
    {
      "cell_type": "markdown",
      "metadata": {
        "id": "LyxDOGH_Jp_P"
      },
      "source": [
        "# Model definition \n",
        "\n",
        "Third major step is to define our model. Let us define a CNN model. We will start with a base class in which function related to calculating accuracy, saving loss values, number of epochs are saved.   "
      ]
    },
    {
      "cell_type": "code",
      "execution_count": 30,
      "metadata": {
        "id": "WgbZ6gLOJp_Q"
      },
      "outputs": [],
      "source": [
        "class ImageClassificationBase(nn.Module):\n",
        "    def training_step(self, batch):\n",
        "        images, labels = batch \n",
        "        out = self(images)                  # Generate predictions\n",
        "        loss = F.cross_entropy(out, labels) # Calculate loss\n",
        "        return loss\n",
        "    \n",
        "    def validation_step(self, batch):\n",
        "        images, labels = batch \n",
        "        out = self(images)                    # Generate predictions\n",
        "        loss = F.cross_entropy(out, labels)   # Calculate loss\n",
        "        acc = accuracy(out, labels)           # Calculate accuracy\n",
        "        return {'val_loss': loss.detach(), 'val_acc': acc}\n",
        "        \n",
        "    def validation_epoch_end(self, outputs):\n",
        "        batch_losses = [x['val_loss'] for x in outputs]\n",
        "        epoch_loss = torch.stack(batch_losses).mean()   # Combine losses\n",
        "        batch_accs = [x['val_acc'] for x in outputs]\n",
        "        epoch_acc = torch.stack(batch_accs).mean()      # Combine accuracies\n",
        "        return {'val_loss': epoch_loss.item(), 'val_acc': epoch_acc.item()}\n",
        "    \n",
        "    def epoch_end(self, epoch, result):\n",
        "        print(\"Epoch [{}], train_loss: {:.4f}, val_loss: {:.4f}, val_acc: {:.4f}\".format(\n",
        "            epoch, result['train_loss'], result['val_loss'], result['val_acc']))\n",
        "        \n",
        "def accuracy(outputs, labels):\n",
        "    _, preds = torch.max(outputs, dim=1)\n",
        "    return torch.tensor(torch.sum(preds == labels).item() / len(preds))"
      ]
    },
    {
      "cell_type": "markdown",
      "metadata": {
        "id": "rw-AyZcjJp_Q"
      },
      "source": [
        "We will make a CNN model named 'flowers17CnnModel()' which extends the ImageClassificationBase class to define model architechture.\n",
        "We'll use `nn.Sequential` to chain the layers and activations functions into a single network architecture. We will form 6 convulational layers and 3 linear layers for our model."
      ]
    },
    {
      "cell_type": "code",
      "execution_count": 36,
      "metadata": {
        "id": "F4xrvghlJp_Q"
      },
      "outputs": [],
      "source": [
        "def conv_block(in_channels, out_channels, pool=False):\n",
        "    layers = [nn.Conv2d(in_channels, out_channels, kernel_size=3, padding=1), \n",
        "              nn.BatchNorm2d(out_channels), \n",
        "              nn.ReLU(inplace=True)]\n",
        "    if pool: layers.append(nn.MaxPool2d(2))\n",
        "    return nn.Sequential(*layers)\n",
        "\n",
        "class flowers17ResNet9(ImageClassificationBase):\n",
        "    def __init__(self, in_channels, num_classes):\n",
        "        super().__init__()\n",
        "\n",
        "        self.conv1 = conv_block(in_channels, 64)\n",
        "        self.conv2 = conv_block(64, 128, pool=True)\n",
        "        self.res1 = nn.Sequential(conv_block(128, 128), conv_block(128, 128))\n",
        "        \n",
        "        self.conv3 = conv_block(128, 256, pool=True)\n",
        "        self.conv4 = conv_block(256, 512, pool=True)\n",
        "        self.res2 = nn.Sequential(conv_block(512, 512), conv_block(512, 512))\n",
        "        \n",
        "        self.classifier = nn.Sequential(nn.MaxPool2d(4), \n",
        "                                        nn.Flatten(), \n",
        "                                        nn.Dropout(0.2),\n",
        "                                        nn.Linear(512, num_classes))\n",
        "        \n",
        "    def forward(self, xb):\n",
        "        out = self.conv1(xb)\n",
        "        out = self.conv2(out)\n",
        "        out = self.res1(out) + out\n",
        "        out = self.conv3(out)\n",
        "        out = self.conv4(out)\n",
        "        out = self.res2(out) + out\n",
        "        out = self.classifier(out)\n",
        "        return out\n",
        "        "
      ]
    },
    {
      "cell_type": "markdown",
      "metadata": {
        "id": "oASDWWc9Jp_R"
      },
      "source": [
        "To seamlessly use a GPU, if one is available, we define a couple of helper functions (`get_default_device` & `to_device`) and a helper class `DeviceDataLoader` to move our model & data to the GPU as required. "
      ]
    },
    {
      "cell_type": "code",
      "execution_count": 37,
      "metadata": {
        "id": "wR9oVOopJp_R"
      },
      "outputs": [],
      "source": [
        "def get_default_device():\n",
        "    \"\"\"Pick GPU if available, else CPU\"\"\"\n",
        "    if torch.cuda.is_available():\n",
        "        return torch.device('cuda')\n",
        "    else:\n",
        "        return torch.device('cpu')\n",
        "    \n",
        "def to_device(data, device):\n",
        "    \"\"\"Move tensor(s) to chosen device\"\"\"\n",
        "    if isinstance(data, (list,tuple)):\n",
        "        return [to_device(x, device) for x in data]\n",
        "    return data.to(device, non_blocking=True)\n",
        "\n",
        "class DeviceDataLoader():\n",
        "    \"\"\"Wrap a dataloader to move data to a device\"\"\"\n",
        "    def __init__(self, dl, device):\n",
        "        self.dl = dl\n",
        "        self.device = device\n",
        "        \n",
        "    def __iter__(self):\n",
        "        \"\"\"Yield a batch of data after moving it to device\"\"\"\n",
        "        for b in self.dl: \n",
        "            yield to_device(b, self.device)\n",
        "\n",
        "    def __len__(self):\n",
        "        \"\"\"Number of batches\"\"\"\n",
        "        return len(self.dl)"
      ]
    },
    {
      "cell_type": "markdown",
      "metadata": {
        "id": "5zBM9zOqJp_R"
      },
      "source": [
        "Based on where you're running this notebook, your default device could be a CPU (`torch.device('cpu')`) or a GPU (`torch.device('cuda')`)"
      ]
    },
    {
      "cell_type": "code",
      "execution_count": 38,
      "metadata": {
        "colab": {
          "base_uri": "https://localhost:8080/"
        },
        "id": "iczDAm1SJp_R",
        "outputId": "cddb1e8a-819b-4cc4-9f6f-6a0133473865"
      },
      "outputs": [
        {
          "output_type": "execute_result",
          "data": {
            "text/plain": [
              "device(type='cuda')"
            ]
          },
          "metadata": {},
          "execution_count": 38
        }
      ],
      "source": [
        "device = get_default_device()\n",
        "device"
      ]
    },
    {
      "cell_type": "markdown",
      "metadata": {
        "id": "zdlOEla3Jp_R"
      },
      "source": [
        "We can now wrap our training and validation data loaders using `DeviceDataLoader` for automatically transferring batches of data to the GPU (if available), and use `to_device` to move our model to the GPU (if available)."
      ]
    },
    {
      "cell_type": "code",
      "execution_count": 39,
      "metadata": {
        "id": "tU5q48KeJp_Q"
      },
      "outputs": [],
      "source": [
        "model = flowers17ResNet9(in_channels = 3, num_classes = 17)\n",
        "model;"
      ]
    },
    {
      "cell_type": "code",
      "execution_count": 40,
      "metadata": {
        "id": "vx3BnG8IJp_R"
      },
      "outputs": [],
      "source": [
        "train_dl = DeviceDataLoader(train_dl, device)\n",
        "val_dl = DeviceDataLoader(val_dl, device)\n",
        "\n",
        "flower_resnet = to_device(model, device);"
      ]
    },
    {
      "cell_type": "code",
      "execution_count": 41,
      "metadata": {
        "id": "aEQkLCaYJp_S"
      },
      "outputs": [],
      "source": [
        "@torch.no_grad()\n",
        "def evaluate(model, val_loader):\n",
        "    model.eval()\n",
        "    outputs = [model.validation_step(batch) for batch in val_loader]\n",
        "    return model.validation_epoch_end(outputs)\n",
        "\n",
        "def get_lr(optimizer):\n",
        "    for param_group in optimizer.param_groups:\n",
        "        return param_group['lr']\n",
        "\n",
        "def fit_one_cycle(epochs, max_lr, model, train_loader, val_loader, \n",
        "                  weight_decay=0, grad_clip=None, opt_func=torch.optim.SGD):\n",
        "    torch.cuda.empty_cache()\n",
        "    history = []\n",
        "    \n",
        "    # Set up cutom optimizer with weight decay\n",
        "    optimizer = opt_func(model.parameters(), max_lr, weight_decay=weight_decay)\n",
        "    # Set up one-cycle learning rate scheduler\n",
        "    sched = torch.optim.lr_scheduler.OneCycleLR(optimizer, max_lr, epochs=epochs, \n",
        "                                                steps_per_epoch=len(train_loader))\n",
        "    \n",
        "    for epoch in range(epochs):\n",
        "        # Training Phase \n",
        "        model.train()\n",
        "        train_losses = []\n",
        "        lrs = []\n",
        "        for batch in train_loader:\n",
        "            loss = model.training_step(batch)\n",
        "            train_losses.append(loss)\n",
        "            loss.backward()\n",
        "            \n",
        "            # Gradient clipping\n",
        "            if grad_clip: \n",
        "                nn.utils.clip_grad_value_(model.parameters(), grad_clip)\n",
        "            \n",
        "            optimizer.step()\n",
        "            optimizer.zero_grad()\n",
        "            \n",
        "            # Record & update learning rate\n",
        "            lrs.append(get_lr(optimizer))\n",
        "            sched.step()\n",
        "        \n",
        "        # Validation phase\n",
        "        result = evaluate(model, val_loader)\n",
        "        result['train_loss'] = torch.stack(train_losses).mean().item()\n",
        "        result['lrs'] = lrs\n",
        "        model.epoch_end(epoch, result)\n",
        "        history.append(result)\n",
        "    return history"
      ]
    },
    {
      "cell_type": "markdown",
      "metadata": {
        "id": "mGbR0ClAJp_S"
      },
      "source": [
        "Before we begin training, let's instantiate the model once again and see how it performs on the validation set with the initial set of parameters."
      ]
    },
    {
      "cell_type": "code",
      "execution_count": 42,
      "metadata": {
        "id": "rWO9y9TrJp_S"
      },
      "outputs": [],
      "source": [
        "history = [evaluate(model, val_dl)]"
      ]
    },
    {
      "cell_type": "markdown",
      "metadata": {
        "id": "WEuauDpwJp_S"
      },
      "source": [
        "The initial accuracy is around 10%, which is what one might expect from a randomly intialized model (since it has a 1 in 17 chance of getting a label right by guessing randomly).\n",
        "\n",
        "We'll use the following *hyperparmeters* (learning rate, no. of epochs, batch_size etc.) to train our model. "
      ]
    },
    {
      "cell_type": "markdown",
      "metadata": {
        "id": "-6lIc9bUJp_S"
      },
      "source": [
        "It's important to record the hyperparameters of every experiment you do, to replicate it later and compare it against other experiments. We can record them using `jovian.log_hyperparams`."
      ]
    },
    {
      "cell_type": "code",
      "execution_count": 43,
      "metadata": {
        "id": "PfD4is6FJp_S"
      },
      "outputs": [],
      "source": [
        "# # # jovian.reset()\n",
        "# jovian.log_hyperparams({\n",
        "#     'arch': arch,\n",
        "#     'num_epochs': num_epochs,\n",
        "#     'opt_func': opt_func.__name__,\n",
        "#     'batch_size': batch_size,\n",
        "#     'lr': lr,\n",
        "# })"
      ]
    },
    {
      "cell_type": "code",
      "source": [
        "# log_dict = {\n",
        "#     'arch': arch,\n",
        "#     'num_epochs': num_epochs,\n",
        "#     'opt_func': 'opt_func.__name__',\n",
        "#     'batch_size': 'batch_size',\n",
        "#     'lr': lr,\n",
        "# }"
      ],
      "metadata": {
        "id": "W5uEt8yFQiR8"
      },
      "execution_count": 44,
      "outputs": []
    },
    {
      "cell_type": "code",
      "execution_count": 57,
      "metadata": {
        "id": "HdSA8RWDJp_S"
      },
      "outputs": [],
      "source": [
        "epochs = 100\n",
        "max_lr = 0.1\n",
        "grad_clip = 0.1\n",
        "weight_decay = 1e-4\n",
        "opt_func = torch.optim.Adam"
      ]
    },
    {
      "cell_type": "code",
      "source": [
        "model;"
      ],
      "metadata": {
        "id": "-aZpqNuZ6bR0"
      },
      "execution_count": 58,
      "outputs": []
    },
    {
      "cell_type": "code",
      "execution_count": 59,
      "metadata": {
        "colab": {
          "base_uri": "https://localhost:8080/"
        },
        "id": "vZK4Y2XrJp_T",
        "outputId": "dd87e99b-1e21-4f4d-ee81-4f60d40fe979"
      },
      "outputs": [
        {
          "output_type": "stream",
          "name": "stdout",
          "text": [
            "Epoch [0], train_loss: 0.0215, val_loss: 0.5759, val_acc: 0.8611\n",
            "Epoch [1], train_loss: 0.0137, val_loss: 0.6629, val_acc: 0.8507\n",
            "Epoch [2], train_loss: 0.0234, val_loss: 0.6561, val_acc: 0.8368\n",
            "Epoch [3], train_loss: 0.0262, val_loss: 0.6697, val_acc: 0.8368\n",
            "Epoch [4], train_loss: 0.0385, val_loss: 0.6669, val_acc: 0.8299\n",
            "Epoch [5], train_loss: 0.0456, val_loss: 0.9169, val_acc: 0.8229\n",
            "Epoch [6], train_loss: 0.0599, val_loss: 0.7639, val_acc: 0.8160\n",
            "Epoch [7], train_loss: 0.0521, val_loss: 0.6422, val_acc: 0.8299\n",
            "Epoch [8], train_loss: 0.0707, val_loss: 0.8048, val_acc: 0.8090\n",
            "Epoch [9], train_loss: 0.1192, val_loss: 0.9578, val_acc: 0.7743\n",
            "Epoch [10], train_loss: 0.1449, val_loss: 0.7688, val_acc: 0.8090\n",
            "Epoch [11], train_loss: 0.3183, val_loss: 0.9693, val_acc: 0.7569\n",
            "Epoch [12], train_loss: 0.2824, val_loss: 0.8517, val_acc: 0.7743\n",
            "Epoch [13], train_loss: 0.1643, val_loss: 0.8938, val_acc: 0.7535\n",
            "Epoch [14], train_loss: 0.2572, val_loss: 1.1315, val_acc: 0.7326\n",
            "Epoch [15], train_loss: 0.4028, val_loss: 0.8848, val_acc: 0.7465\n",
            "Epoch [16], train_loss: 0.3411, val_loss: 0.9084, val_acc: 0.7465\n",
            "Epoch [17], train_loss: 0.2844, val_loss: 0.9854, val_acc: 0.7500\n",
            "Epoch [18], train_loss: 0.4790, val_loss: 1.2430, val_acc: 0.6910\n",
            "Epoch [19], train_loss: 0.3869, val_loss: 1.1696, val_acc: 0.7153\n",
            "Epoch [20], train_loss: 0.4323, val_loss: 1.4692, val_acc: 0.7049\n",
            "Epoch [21], train_loss: 0.4132, val_loss: 1.4554, val_acc: 0.6736\n",
            "Epoch [22], train_loss: 0.4880, val_loss: 1.4672, val_acc: 0.7188\n",
            "Epoch [23], train_loss: 0.4512, val_loss: 1.2181, val_acc: 0.7153\n",
            "Epoch [24], train_loss: 0.4215, val_loss: 1.2654, val_acc: 0.7431\n",
            "Epoch [25], train_loss: 0.4241, val_loss: 1.1202, val_acc: 0.7153\n",
            "Epoch [26], train_loss: 0.3444, val_loss: 1.3815, val_acc: 0.7257\n",
            "Epoch [27], train_loss: 0.4689, val_loss: 1.1224, val_acc: 0.7222\n",
            "Epoch [28], train_loss: 0.4050, val_loss: 1.1747, val_acc: 0.7326\n",
            "Epoch [29], train_loss: 0.3613, val_loss: 1.0907, val_acc: 0.7465\n",
            "Epoch [30], train_loss: 0.3342, val_loss: 1.3826, val_acc: 0.7118\n",
            "Epoch [31], train_loss: 0.3809, val_loss: 0.9866, val_acc: 0.7639\n",
            "Epoch [32], train_loss: 0.3331, val_loss: 1.2687, val_acc: 0.6910\n",
            "Epoch [33], train_loss: 0.4564, val_loss: 1.1157, val_acc: 0.7812\n",
            "Epoch [34], train_loss: 0.3683, val_loss: 1.3397, val_acc: 0.7396\n",
            "Epoch [35], train_loss: 0.3721, val_loss: 1.2040, val_acc: 0.7118\n",
            "Epoch [36], train_loss: 0.4247, val_loss: 1.5372, val_acc: 0.7118\n",
            "Epoch [37], train_loss: 0.2877, val_loss: 1.0508, val_acc: 0.7465\n",
            "Epoch [38], train_loss: 0.2119, val_loss: 1.0256, val_acc: 0.7639\n",
            "Epoch [39], train_loss: 0.3091, val_loss: 1.1151, val_acc: 0.7639\n",
            "Epoch [40], train_loss: 0.2633, val_loss: 0.9496, val_acc: 0.7847\n",
            "Epoch [41], train_loss: 0.2400, val_loss: 0.9787, val_acc: 0.7569\n",
            "Epoch [42], train_loss: 0.3016, val_loss: 1.0965, val_acc: 0.7500\n",
            "Epoch [43], train_loss: 0.2669, val_loss: 0.8573, val_acc: 0.7882\n",
            "Epoch [44], train_loss: 0.2669, val_loss: 1.0431, val_acc: 0.7812\n",
            "Epoch [45], train_loss: 0.3808, val_loss: 0.8066, val_acc: 0.7882\n",
            "Epoch [46], train_loss: 0.2771, val_loss: 0.8369, val_acc: 0.7882\n",
            "Epoch [47], train_loss: 0.2156, val_loss: 1.1195, val_acc: 0.7708\n",
            "Epoch [48], train_loss: 0.2168, val_loss: 1.1234, val_acc: 0.7639\n",
            "Epoch [49], train_loss: 0.2409, val_loss: 1.0172, val_acc: 0.7882\n",
            "Epoch [50], train_loss: 0.1910, val_loss: 1.4763, val_acc: 0.7118\n",
            "Epoch [51], train_loss: 0.1831, val_loss: 1.0964, val_acc: 0.7708\n",
            "Epoch [52], train_loss: 0.2249, val_loss: 0.9589, val_acc: 0.7778\n",
            "Epoch [53], train_loss: 0.1698, val_loss: 0.9714, val_acc: 0.7708\n",
            "Epoch [54], train_loss: 0.1567, val_loss: 0.9729, val_acc: 0.7743\n",
            "Epoch [55], train_loss: 0.1125, val_loss: 0.9684, val_acc: 0.7917\n",
            "Epoch [56], train_loss: 0.1634, val_loss: 0.9650, val_acc: 0.8090\n",
            "Epoch [57], train_loss: 0.2194, val_loss: 0.7719, val_acc: 0.7882\n",
            "Epoch [58], train_loss: 0.1377, val_loss: 0.7796, val_acc: 0.7917\n",
            "Epoch [59], train_loss: 0.1122, val_loss: 0.9098, val_acc: 0.7847\n",
            "Epoch [60], train_loss: 0.1174, val_loss: 0.8072, val_acc: 0.8160\n",
            "Epoch [61], train_loss: 0.1101, val_loss: 0.9926, val_acc: 0.7951\n",
            "Epoch [62], train_loss: 0.0811, val_loss: 0.6940, val_acc: 0.8125\n",
            "Epoch [63], train_loss: 0.0710, val_loss: 0.7535, val_acc: 0.8368\n",
            "Epoch [64], train_loss: 0.1227, val_loss: 0.9857, val_acc: 0.7917\n",
            "Epoch [65], train_loss: 0.0842, val_loss: 0.7079, val_acc: 0.8125\n",
            "Epoch [66], train_loss: 0.0664, val_loss: 0.8118, val_acc: 0.8090\n",
            "Epoch [67], train_loss: 0.0812, val_loss: 0.8474, val_acc: 0.8056\n",
            "Epoch [68], train_loss: 0.0473, val_loss: 0.8128, val_acc: 0.8229\n",
            "Epoch [69], train_loss: 0.0665, val_loss: 0.7783, val_acc: 0.8021\n",
            "Epoch [70], train_loss: 0.0679, val_loss: 0.8803, val_acc: 0.8125\n",
            "Epoch [71], train_loss: 0.0602, val_loss: 0.7020, val_acc: 0.8125\n",
            "Epoch [72], train_loss: 0.0793, val_loss: 0.7418, val_acc: 0.8299\n",
            "Epoch [73], train_loss: 0.0480, val_loss: 0.8192, val_acc: 0.8264\n",
            "Epoch [74], train_loss: 0.0330, val_loss: 0.8191, val_acc: 0.8299\n",
            "Epoch [75], train_loss: 0.0260, val_loss: 0.7020, val_acc: 0.8368\n",
            "Epoch [76], train_loss: 0.0348, val_loss: 0.6784, val_acc: 0.8507\n",
            "Epoch [77], train_loss: 0.0329, val_loss: 0.6592, val_acc: 0.8160\n",
            "Epoch [78], train_loss: 0.0291, val_loss: 0.7505, val_acc: 0.8333\n",
            "Epoch [79], train_loss: 0.0326, val_loss: 0.7286, val_acc: 0.8125\n",
            "Epoch [80], train_loss: 0.0523, val_loss: 0.6285, val_acc: 0.8472\n",
            "Epoch [81], train_loss: 0.0335, val_loss: 0.5296, val_acc: 0.8576\n",
            "Epoch [82], train_loss: 0.0181, val_loss: 0.6373, val_acc: 0.8576\n",
            "Epoch [83], train_loss: 0.0153, val_loss: 0.5984, val_acc: 0.8542\n",
            "Epoch [84], train_loss: 0.0202, val_loss: 0.6592, val_acc: 0.8507\n",
            "Epoch [85], train_loss: 0.0291, val_loss: 0.5978, val_acc: 0.8715\n",
            "Epoch [86], train_loss: 0.0211, val_loss: 0.6607, val_acc: 0.8507\n",
            "Epoch [87], train_loss: 0.0146, val_loss: 0.5781, val_acc: 0.8507\n",
            "Epoch [88], train_loss: 0.0147, val_loss: 0.7763, val_acc: 0.8507\n",
            "Epoch [89], train_loss: 0.0167, val_loss: 0.8060, val_acc: 0.8299\n",
            "Epoch [90], train_loss: 0.0220, val_loss: 0.6917, val_acc: 0.8368\n",
            "Epoch [91], train_loss: 0.0092, val_loss: 0.6687, val_acc: 0.8333\n",
            "Epoch [92], train_loss: 0.0179, val_loss: 0.5845, val_acc: 0.8472\n",
            "Epoch [93], train_loss: 0.0152, val_loss: 0.6048, val_acc: 0.8576\n",
            "Epoch [94], train_loss: 0.0179, val_loss: 0.7840, val_acc: 0.8368\n",
            "Epoch [95], train_loss: 0.0079, val_loss: 0.6276, val_acc: 0.8611\n",
            "Epoch [96], train_loss: 0.0075, val_loss: 0.6452, val_acc: 0.8472\n",
            "Epoch [97], train_loss: 0.0085, val_loss: 0.6888, val_acc: 0.8576\n",
            "Epoch [98], train_loss: 0.0101, val_loss: 0.6809, val_acc: 0.8438\n",
            "Epoch [99], train_loss: 0.0114, val_loss: 0.7084, val_acc: 0.8472\n",
            "CPU times: user 1min 37s, sys: 23.5 s, total: 2min\n",
            "Wall time: 13min 10s\n"
          ]
        }
      ],
      "source": [
        "%%time\n",
        "history += fit_one_cycle(epochs, max_lr, model, train_dl, val_dl, \n",
        "                             grad_clip=grad_clip, \n",
        "                             weight_decay=weight_decay, \n",
        "                             opt_func=opt_func)"
      ]
    },
    {
      "cell_type": "code",
      "execution_count": null,
      "metadata": {
        "id": "z5Kxuq9EJp_T"
      },
      "outputs": [],
      "source": [
        "# jovian.log_metrics(train_loss=history[-1]['train_loss'], \n",
        "#                    val_loss=history[-1]['val_loss'], \n",
        "#                    val_acc=history[-1]['val_acc'])"
      ]
    },
    {
      "cell_type": "markdown",
      "metadata": {
        "id": "55K2kRe6Jp_T"
      },
      "source": [
        "We can also plot the valdation set accuracies to study how the model improves over time."
      ]
    },
    {
      "cell_type": "code",
      "execution_count": 53,
      "metadata": {
        "id": "UP7E5_GhJp_T"
      },
      "outputs": [],
      "source": [
        "def plot_accuracies(history):\n",
        "    accuracies = [x['val_acc'] for x in history]\n",
        "    plt.plot(accuracies, '-x')\n",
        "    plt.xlabel('epoch')\n",
        "    plt.ylabel('accuracy')\n",
        "    plt.title('Accuracy vs. No. of epochs');"
      ]
    },
    {
      "cell_type": "code",
      "execution_count": 60,
      "metadata": {
        "colab": {
          "base_uri": "https://localhost:8080/",
          "height": 295
        },
        "id": "KYgnxqQQJp_T",
        "outputId": "16e188b7-de4f-4926-a954-920802cd4a93"
      },
      "outputs": [
        {
          "output_type": "display_data",
          "data": {
            "text/plain": [
              "<Figure size 432x288 with 1 Axes>"
            ],
            "image/png": "[encoded data removed]"
          },
          "metadata": {}
        }
      ],
      "source": [
        "plot_accuracies(history)"
      ]
    },
    {
      "cell_type": "code",
      "execution_count": null,
      "metadata": {
        "id": "Oefp3XHjJp_U"
      },
      "outputs": [],
      "source": [
        "def plot_losses(history):\n",
        "    train_losses = [x.get('train_loss') for x in history]\n",
        "    val_losses = [x['val_loss'] for x in history]\n",
        "    plt.plot(train_losses, '-bx')\n",
        "    plt.plot(val_losses, '-rx')\n",
        "    plt.xlabel('epoch')\n",
        "    plt.ylabel('loss')\n",
        "    plt.legend(['Training', 'Validation'])\n",
        "    plt.title('Loss vs. No. of epochs');"
      ]
    },
    {
      "cell_type": "code",
      "execution_count": null,
      "metadata": {
        "colab": {
          "base_uri": "https://localhost:8080/",
          "height": 295
        },
        "id": "KBpeN5YhJp_U",
        "outputId": "b866d043-34c1-4132-8c8d-f19a6e1211ff"
      },
      "outputs": [
        {
          "output_type": "display_data",
          "data": {
            "text/plain": [
              "<Figure size 432x288 with 1 Axes>"
            ],
            "image/png": "[encoded data removed]"
          },
          "metadata": {}
        }
      ],
      "source": [
        "plot_losses(history)"
      ]
    }
  ],
  "metadata": {
    "accelerator": "GPU",
    "colab": {
      "provenance": [],
      "include_colab_link": true
    },
    "gpuClass": "standard",
    "kernelspec": {
      "display_name": "Python 3",
      "language": "python",
      "name": "python3"
    },
    "language_info": {
      "codemirror_mode": {
        "name": "ipython",
        "version": 3
      },
      "file_extension": ".py",
      "mimetype": "text/x-python",
      "name": "python",
      "nbconvert_exporter": "python",
      "pygments_lexer": "ipython3",
      "version": "3.7.6"
    }
  },
  "nbformat": 4,
  "nbformat_minor": 0
}
{
  "cells": [
    {
      "cell_type": "markdown",
      "metadata": {
        "id": "view-in-github",
        "colab_type": "text"
      },
      "source": [
        "<a href=\"https://colab.research.google.com/github/sanjeev4427/flower_classification/blob/main/17flowers_resnet.ipynb\" target=\"_parent\"><img src=\"https://colab.research.google.com/assets/colab-badge.svg\" alt=\"Open In Colab\"/></a>"
      ]
    },
    {
      "cell_type": "markdown",
      "metadata": {
        "id": "glYHP4-7Jp--"
      },
      "source": [
        "# 5 steps to identify your favourite flower using AI \n",
        "\n",
        "### Assemble your tools\n",
        "\n",
        "Are you excited to go on a hiking trail to identify your favourite flower? Lets assemble our digital tools. We will buiild a Deep Learning algorithm called Convolutional Neural Network using PyTorch. \n",
        "What is PyTorch? \n",
        "PyTorch is a python library which makes it easier to develop AI algorithm. These are the five major steps:\n",
        "\n",
        "\n",
        "*   Data (pictures of your favourite flowers)\n",
        "*   Data transformation\n",
        "\n",
        "*   Building model \n",
        "*   Training model\n",
        "*   Making predictions\n",
        "\n",
        "# Set up device\n",
        "It is recommended to use google colab for this project. This is the fastest way to start as it already have all the necessary libraries installed. Follow this link to learn more https://colab.research.google.com/. We will be using the free GPU resources of colab so change your runtime to GPU. If are are using your own computer then install PyTorch by uncommenting the following line of codes."
      ]
    },
    {
      "cell_type": "code",
      "execution_count": null,
      "metadata": {
        "id": "sFBq-ur9Jp-_"
      },
      "outputs": [],
      "source": [
        "# Uncomment and run the appropriate command for your operating system, if required\n",
        "\n",
        "# Linux / Binder / Windows (No GPU)\n",
        "# !pip install numpy matplotlib torch==1.7.0+cpu torchvision==0.8.1+cpu torchaudio==0.7.0 -f https://download.pytorch.org/whl/torch_stable.html\n",
        "\n",
        "# Linux / Windows (GPU)\n",
        "# pip install torch==1.7.1+cu110 torchvision==0.8.2+cu110 torchaudio==0.7.2 -f https://download.pytorch.org/whl/torch_stable.html\n",
        " \n",
        "# MacOS (NO GPU)\n",
        "# !pip install numpy matplotlib torch torchvision torchaudio"
      ]
    },
    {
      "cell_type": "markdown",
      "metadata": {
        "id": "gYaGeH7ILhNw"
      },
      "source": [
        "# Get your data\n",
        "Now you have option to click your own pictures of flowers and seperate them nicely into folders or to save time download ready to use datasets from the following link. If you are using colab the run the following code block to downlod the data. This requires you to set up your account on kaggle. Follow this link to know more. https://www.kaggle.com/general/74235 "
      ]
    },
    {
      "cell_type": "code",
      "execution_count": null,
      "metadata": {
        "id": "gSYbryZOGdo1"
      },
      "outputs": [],
      "source": [
        "# # how to dowload datasets from kaggle\n",
        "# dataset_url = 'https://www.kaggle.com/general/156610'"
      ]
    },
    {
      "cell_type": "code",
      "execution_count": null,
      "metadata": {
        "id": "dbyFWpj8Dum1"
      },
      "outputs": [],
      "source": [
        "# from google.colab import files\n",
        "\n",
        "# # files.upload() #this will prompt you to upload the kaggle.json\n",
        "# !ls -lha kaggle.json # make sure kaggle.json file is present\n",
        "# #Install kaggle API client\n",
        "# !pip install -q kaggle\n",
        "# !mkdir -p ~/.kaggle\n",
        "# !cp kaggle.json ~/.kaggle/\n",
        "# !chmod 600 /root/.kaggle/kaggle.json\n",
        "# # dowloading data from kaggle\n",
        "# # !kaggle datasets download -d datajameson/oxford-17-flowers-dataset \n",
        "# !unzip /content/gdrive/MyDrive/Mydata/oxford-17-flowers-dataset.zip -d /content/gdrive/MyDrive/Mydata/dataflowers/"
      ]
    },
    {
      "cell_type": "code",
      "source": [
        "from google.colab import drive\n",
        "drive.mount('/content/gdrive')"
      ],
      "metadata": {
        "colab": {
          "base_uri": "https://localhost:8080/"
        },
        "id": "tplN5kMAbxHv",
        "outputId": "343d6ced-f72d-4e8d-d8c9-dc18136b56eb"
      },
      "execution_count": 1,
      "outputs": [
        {
          "output_type": "stream",
          "name": "stdout",
          "text": [
            "Mounted at /content/gdrive\n"
          ]
        }
      ]
    },
    {
      "cell_type": "markdown",
      "metadata": {
        "id": "pFDuQfyYNQAZ"
      },
      "source": [
        "Import necessary libraries."
      ]
    },
    {
      "cell_type": "code",
      "execution_count": 2,
      "metadata": {
        "id": "TkOhVp1FJp_A"
      },
      "outputs": [],
      "source": [
        "import os\n",
        "import torch\n",
        "import torchvision\n",
        "import tarfile\n",
        "from torchvision.datasets.utils import download_url\n",
        "from torch.utils.data import random_split\n",
        "import torchvision.transforms as tt\n",
        "from torchvision.datasets import ImageFolder\n",
        "import matplotlib\n",
        "import matplotlib.pyplot as plt\n",
        "%matplotlib inline\n",
        "matplotlib.rcParams['figure.facecolor'] = '#ffffff'\n",
        "import torch.nn as nn\n",
        "import torch.nn.functional as F\n",
        "# from torchvision.transforms import ToTensor\n",
        "# import torchvision.transforms.functional as fn"
      ]
    },
    {
      "cell_type": "markdown",
      "metadata": {
        "id": "hgj4j9UPNw02"
      },
      "source": [
        "Let us see the different type of flowers (called classes) in our datasets."
      ]
    },
    {
      "cell_type": "code",
      "execution_count": 3,
      "metadata": {
        "colab": {
          "base_uri": "https://localhost:8080/"
        },
        "id": "Ewt8o-hiJp_C",
        "outputId": "f43a1a3f-1959-4882-d7b5-3a1d6a64f8d4"
      },
      "outputs": [
        {
          "output_type": "stream",
          "name": "stdout",
          "text": [
            "['Bluebell', 'Buttercup', 'Coltsfoot', 'Cowslip', 'Crocus', 'Daffodil', 'Daisy', 'Dandelion', 'Fritillary', 'Iris', 'Lilyvalley', 'Pansy', 'Snowdrop', 'Sunflower', 'Tigerlily', 'Tulip', 'Windflower']\n"
          ]
        }
      ],
      "source": [
        "data_dir = '/content/gdrive/MyDrive/Mydata/dataflowers/Oxford 17 Flowers'\n",
        "classes = os.listdir(data_dir)\n",
        "print(classes)"
      ]
    },
    {
      "cell_type": "code",
      "execution_count": 78,
      "metadata": {
        "id": "AgPg2huRQA1u"
      },
      "outputs": [],
      "source": [
        "# function for number of images of each class\n",
        "def each_class_data(data_dir):\n",
        "    classes = os.listdir(data_dir)\n",
        "    label_list = [0]*len(classes)\n",
        "    dataset = ImageFolder(data_dir)\n",
        "    \n",
        "    for i in range(len(dataset)):\n",
        "      _,label = dataset[i]\n",
        "      label_list[label] += 1\n",
        "    [print(f'Number of {classes[i]} pictures: {val}') for i,val in enumerate(label_list)]"
      ]
    },
    {
      "cell_type": "code",
      "execution_count": 79,
      "metadata": {
        "colab": {
          "base_uri": "https://localhost:8080/"
        },
        "id": "tulpmBqtHTos",
        "outputId": "21971466-d114-4218-c29a-7920854557c2"
      },
      "outputs": [
        {
          "output_type": "stream",
          "name": "stdout",
          "text": [
            "Number of Bluebell pictures: 80\n",
            "Number of Buttercup pictures: 80\n",
            "Number of Coltsfoot pictures: 80\n",
            "Number of Cowslip pictures: 80\n",
            "Number of Crocus pictures: 80\n",
            "Number of Daffodil pictures: 80\n",
            "Number of Daisy pictures: 80\n",
            "Number of Dandelion pictures: 80\n",
            "Number of Fritillary pictures: 80\n",
            "Number of Iris pictures: 80\n",
            "Number of Lilyvalley pictures: 80\n",
            "Number of Pansy pictures: 80\n",
            "Number of Snowdrop pictures: 80\n",
            "Number of Sunflower pictures: 80\n",
            "Number of Tigerlily pictures: 80\n",
            "Number of Tulip pictures: 80\n",
            "Number of Windflower pictures: 80\n"
          ]
        }
      ],
      "source": [
        "# printing number of images of each class \n",
        "each_class_data(data_dir)\n",
        "\n"
      ]
    },
    {
      "cell_type": "markdown",
      "metadata": {
        "id": "DgG9_EIulI8q"
      },
      "source": [
        "Let us see some examples of our flower images. "
      ]
    },
    {
      "cell_type": "code",
      "execution_count": 80,
      "metadata": {
        "id": "_kV8tnp5jhCG"
      },
      "outputs": [],
      "source": [
        "def show_example(img, label):\n",
        "    dataset_img = ImageFolder(data_dir)\n",
        "    print('Label: ', dataset_img.classes[label], \"(\"+str(label)+\")\")\n",
        "    plt.imshow(img)\n",
        "    print(img.size)\n",
        "\n",
        "# show_example(*dataset_img[24])"
      ]
    },
    {
      "cell_type": "markdown",
      "metadata": {
        "id": "9egA936ISs7p"
      },
      "source": [
        "# Data transformation \n",
        "\n",
        "Next step is to transform the data in a way that it is easier to train and is more general. These are the data transformation steps used:\n",
        "* Resizing \n",
        "* Normalising \n",
        "* Horizontal flip\n",
        "* Cropping \n",
        "* Converting to tensor"
      ]
    },
    {
      "cell_type": "code",
      "execution_count": 81,
      "metadata": {
        "id": "zUH7ax8x_cms"
      },
      "outputs": [],
      "source": [
        "# Data transforms (normalization & data augmentation)\n",
        "stats = ((0.4914, 0.4822, 0.4465), (0.2023, 0.1994, 0.2010)) # how to get these values\n",
        "dataset_tfms = tt.Compose([tt.Resize(size=(32,32)),\n",
        "                         tt.RandomCrop(32, padding=4, padding_mode='reflect'), \n",
        "                         tt.RandomHorizontalFlip(), \n",
        "                         # tt.RandomRotate\n",
        "                        #  tt.RandomResizedCrop(256, scale=(0.5,0.9), ratio=(1, 1)), \n",
        "                         # tt.ColorJitter(brightness=0.1, contrast=0.1, saturation=0.1, hue=0.1),\n",
        "                         tt.ToTensor(), \n",
        "                         tt.Normalize(*stats,inplace=True)])\n",
        "                         \n",
        "# valid_tfms = tt.Compose([tt.ToTensor(), tt.Normalize(*stats)])\n",
        "\n",
        "#applying data transformation \n",
        "dataset = ImageFolder(data_dir, dataset_tfms)"
      ]
    },
    {
      "cell_type": "markdown",
      "metadata": {
        "id": "-vr8femqdp0V"
      },
      "source": [
        "Splitting up data into training set, validation set and test set. \n",
        "1. **Training set** - used to train the model i.e. compute the loss and adjust the weights of the model using gradient descent.\n",
        "2. **Validation set** - used to evaluate the model while training, adjust hyperparameters (learning rate etc.) and pick the best version of the model.\n",
        "3. **Test set** - used to compare different models, or different types of modeling approaches, and report the final accuracy of the model.\n",
        "\n",
        "Since there's no predefined validation set and test set, we can set aside 20 percent of the dataset to be used as the validation set and 10 percent of dataset as test set remaining 70 percent will be training set. We'll use the `random_split` helper method from PyTorch to do this. To ensure that we always create the same validation set, we'll also set a seed for the random number generator."
      ]
    },
    {
      "cell_type": "code",
      "execution_count": 82,
      "metadata": {
        "id": "MSVGdRK3Jp_J"
      },
      "outputs": [],
      "source": [
        "random_seed = 42\n",
        "torch.manual_seed(random_seed);"
      ]
    },
    {
      "cell_type": "code",
      "execution_count": 83,
      "metadata": {
        "id": "aR11xcbM_r94"
      },
      "outputs": [],
      "source": [
        "#splitting data into train, valid, test data\n",
        "def data_split(dataset):\n",
        "  train_size = int(0.7*len(dataset))\n",
        "  valid_size = int(0.2*len(dataset))\n",
        "  test_size = len(dataset) - (train_size + valid_size)\n",
        "  \n",
        "  train_dataset, valid_dataset, test_dataset = random_split(dataset,[train_size, valid_size, test_size])\n",
        "  # train_dataset, valid_dataset = random_split(train_valid_dataset, [train_size, valid_size])\n",
        "  return train_dataset, valid_dataset, test_dataset\n",
        "train_ds, val_ds, test_ds = data_split(dataset)"
      ]
    },
    {
      "cell_type": "code",
      "execution_count": 84,
      "metadata": {
        "colab": {
          "base_uri": "https://localhost:8080/"
        },
        "id": "z54Sk-zqdEiD",
        "outputId": "6ab28470-c420-4a51-c614-d6d1ac9f1bb6"
      },
      "outputs": [
        {
          "output_type": "stream",
          "name": "stdout",
          "text": [
            "951 272 137\n"
          ]
        }
      ],
      "source": [
        "print(len(train_ds), len(val_ds), len(test_ds))"
      ]
    },
    {
      "cell_type": "code",
      "execution_count": 85,
      "metadata": {
        "id": "7wM8WQFfJp_M"
      },
      "outputs": [],
      "source": [
        "from torch.utils.data.dataloader import DataLoader\n",
        "\n",
        "batch_size = 32"
      ]
    },
    {
      "cell_type": "code",
      "execution_count": 86,
      "metadata": {
        "id": "lWXX_hHGJp_M"
      },
      "outputs": [],
      "source": [
        "train_dl = DataLoader(train_ds, batch_size, shuffle=True, num_workers=4, pin_memory=True)\n",
        "val_dl = DataLoader(val_ds, batch_size*2, num_workers=4, pin_memory=True)"
      ]
    },
    {
      "cell_type": "code",
      "execution_count": 87,
      "metadata": {
        "id": "xEYh1NZxJp_N"
      },
      "outputs": [],
      "source": [
        "# from torchvision.utils import make_grid\n",
        "\n",
        "# def show_batch(dl):\n",
        "#     for images, labels in dl:\n",
        "#         fig, ax = plt.subplots(figsize=(15, 15))\n",
        "#         ax.set_xticks([]); ax.set_yticks([])\n",
        "#         ax.imshow(make_grid(images, nrow=15).permute(1, 2, 0))\n",
        "#         break"
      ]
    },
    {
      "cell_type": "code",
      "execution_count": 88,
      "metadata": {
        "id": "IMSe7bd8Jp_N"
      },
      "outputs": [],
      "source": [
        "# show_batch(train_dl)"
      ]
    },
    {
      "cell_type": "markdown",
      "metadata": {
        "id": "LyxDOGH_Jp_P"
      },
      "source": [
        "# Model definition \n",
        "\n",
        "Third major step is to define our model. Let us define a CNN model. We will start with a base class in which function related to calculating accuracy, saving loss values, number of epochs are saved.   "
      ]
    },
    {
      "cell_type": "code",
      "execution_count": 89,
      "metadata": {
        "id": "WgbZ6gLOJp_Q"
      },
      "outputs": [],
      "source": [
        "class ImageClassificationBase(nn.Module):\n",
        "    def training_step(self, batch):\n",
        "        images, labels = batch \n",
        "        out = self(images)                  # Generate predictions\n",
        "        loss = F.cross_entropy(out, labels) # Calculate loss\n",
        "        return loss\n",
        "    \n",
        "    def validation_step(self, batch):\n",
        "        images, labels = batch \n",
        "        out = self(images)                    # Generate predictions\n",
        "        loss = F.cross_entropy(out, labels)   # Calculate loss\n",
        "        acc = accuracy(out, labels)           # Calculate accuracy\n",
        "        return {'val_loss': loss.detach(), 'val_acc': acc}\n",
        "        \n",
        "    def validation_epoch_end(self, outputs):\n",
        "        batch_losses = [x['val_loss'] for x in outputs]\n",
        "        epoch_loss = torch.stack(batch_losses).mean()   # Combine losses\n",
        "        batch_accs = [x['val_acc'] for x in outputs]\n",
        "        epoch_acc = torch.stack(batch_accs).mean()      # Combine accuracies\n",
        "        return {'val_loss': epoch_loss.item(), 'val_acc': epoch_acc.item()}\n",
        "    \n",
        "    def epoch_end(self, epoch, result):\n",
        "        print(\"Epoch [{}], train_loss: {:.4f}, val_loss: {:.4f}, val_acc: {:.4f}\".format(\n",
        "            epoch, result['train_loss'], result['val_loss'], result['val_acc']))\n",
        "        \n",
        "def accuracy(outputs, labels):\n",
        "    _, preds = torch.max(outputs, dim=1)\n",
        "    return torch.tensor(torch.sum(preds == labels).item() / len(preds))"
      ]
    },
    {
      "cell_type": "markdown",
      "metadata": {
        "id": "rw-AyZcjJp_Q"
      },
      "source": [
        "We will make a CNN model named 'flowers17CnnModel()' which extends the ImageClassificationBase class to define model architechture.\n",
        "We'll use `nn.Sequential` to chain the layers and activations functions into a single network architecture. We will form 6 convulational layers and 3 linear layers for our model."
      ]
    },
    {
      "cell_type": "code",
      "source": [],
      "metadata": {
        "id": "VMy6SxFNouDv"
      },
      "execution_count": 89,
      "outputs": []
    },
    {
      "cell_type": "code",
      "execution_count": 90,
      "metadata": {
        "id": "F4xrvghlJp_Q"
      },
      "outputs": [],
      "source": [
        "def conv_block(in_channels, out_channels, pool=False):\n",
        "    layers = [nn.Conv2d(in_channels, out_channels, kernel_size=3, padding=1), \n",
        "              nn.BatchNorm2d(out_channels), \n",
        "              nn.ReLU(inplace=True)]\n",
        "    if pool: layers.append(nn.MaxPool2d(2))\n",
        "    return nn.Sequential(*layers)\n",
        "\n",
        "class flowers17ResNet9(ImageClassificationBase):\n",
        "    def __init__(self, in_channels, num_classes):\n",
        "        super().__init__()\n",
        "\n",
        "        self.conv1 = conv_block(in_channels, 64)\n",
        "        self.conv2 = conv_block(64, 128, pool=True)\n",
        "        self.res1 = nn.Sequential(conv_block(128, 128), conv_block(128, 128))\n",
        "        \n",
        "        self.conv3 = conv_block(128, 256, pool=True)\n",
        "        self.conv4 = conv_block(256, 512, pool=True)\n",
        "        self.res2 = nn.Sequential(conv_block(512, 512), conv_block(512, 512))\n",
        "        \n",
        "        self.classifier = nn.Sequential(nn.MaxPool2d(4), \n",
        "                                        nn.Flatten(), \n",
        "                                        nn.Dropout(0.2),\n",
        "                                        nn.Linear(512, num_classes))\n",
        "        \n",
        "    def forward(self, xb):\n",
        "        out = self.conv1(xb)\n",
        "        out = self.conv2(out)\n",
        "        out = self.res1(out) + out\n",
        "        out = self.conv3(out)\n",
        "        out = self.conv4(out)\n",
        "        out = self.res2(out) + out\n",
        "        out = self.classifier(out)\n",
        "        return out\n",
        "        "
      ]
    },
    {
      "cell_type": "markdown",
      "metadata": {
        "id": "oASDWWc9Jp_R"
      },
      "source": [
        "To seamlessly use a GPU, if one is available, we define a couple of helper functions (`get_default_device` & `to_device`) and a helper class `DeviceDataLoader` to move our model & data to the GPU as required. "
      ]
    },
    {
      "cell_type": "code",
      "execution_count": 91,
      "metadata": {
        "id": "wR9oVOopJp_R"
      },
      "outputs": [],
      "source": [
        "def get_default_device():\n",
        "    \"\"\"Pick GPU if available, else CPU\"\"\"\n",
        "    if torch.cuda.is_available():\n",
        "        return torch.device('cuda')\n",
        "    else:\n",
        "        return torch.device('cpu')\n",
        "    \n",
        "def to_device(data, device):\n",
        "    \"\"\"Move tensor(s) to chosen device\"\"\"\n",
        "    if isinstance(data, (list,tuple)):\n",
        "        return [to_device(x, device) for x in data]\n",
        "    return data.to(device, non_blocking=True)\n",
        "\n",
        "class DeviceDataLoader():\n",
        "    \"\"\"Wrap a dataloader to move data to a device\"\"\"\n",
        "    def __init__(self, dl, device):\n",
        "        self.dl = dl\n",
        "        self.device = device\n",
        "        \n",
        "    def __iter__(self):\n",
        "        \"\"\"Yield a batch of data after moving it to device\"\"\"\n",
        "        for b in self.dl: \n",
        "            yield to_device(b, self.device)\n",
        "\n",
        "    def __len__(self):\n",
        "        \"\"\"Number of batches\"\"\"\n",
        "        return len(self.dl)"
      ]
    },
    {
      "cell_type": "markdown",
      "metadata": {
        "id": "5zBM9zOqJp_R"
      },
      "source": [
        "Based on where you're running this notebook, your default device could be a CPU (`torch.device('cpu')`) or a GPU (`torch.device('cuda')`)"
      ]
    },
    {
      "cell_type": "code",
      "execution_count": 92,
      "metadata": {
        "colab": {
          "base_uri": "https://localhost:8080/"
        },
        "id": "iczDAm1SJp_R",
        "outputId": "6f14577c-b3d6-4147-a5c8-b784f8ba288e"
      },
      "outputs": [
        {
          "output_type": "execute_result",
          "data": {
            "text/plain": [
              "device(type='cuda')"
            ]
          },
          "metadata": {},
          "execution_count": 92
        }
      ],
      "source": [
        "device = get_default_device()\n",
        "device"
      ]
    },
    {
      "cell_type": "markdown",
      "metadata": {
        "id": "zdlOEla3Jp_R"
      },
      "source": [
        "We can now wrap our training and validation data loaders using `DeviceDataLoader` for automatically transferring batches of data to the GPU (if available), and use `to_device` to move our model to the GPU (if available)."
      ]
    },
    {
      "cell_type": "code",
      "execution_count": 93,
      "metadata": {
        "id": "tU5q48KeJp_Q"
      },
      "outputs": [],
      "source": [
        "model = flowers17ResNet9(in_channels = 3, num_classes = 17)\n",
        "model;"
      ]
    },
    {
      "cell_type": "code",
      "execution_count": 94,
      "metadata": {
        "id": "vx3BnG8IJp_R"
      },
      "outputs": [],
      "source": [
        "train_dl = DeviceDataLoader(train_dl, device)\n",
        "val_dl = DeviceDataLoader(val_dl, device)\n",
        "\n",
        "flower_resnet = to_device(model, device);"
      ]
    },
    {
      "cell_type": "code",
      "execution_count": 95,
      "metadata": {
        "id": "aEQkLCaYJp_S"
      },
      "outputs": [],
      "source": [
        "@torch.no_grad()\n",
        "def evaluate(model, val_loader):\n",
        "    model.eval()\n",
        "    outputs = [model.validation_step(batch) for batch in val_loader]\n",
        "    return model.validation_epoch_end(outputs)\n",
        "\n",
        "def get_lr(optimizer):\n",
        "    for param_group in optimizer.param_groups:\n",
        "        return param_group['lr']\n",
        "\n",
        "def fit_one_cycle(epochs, max_lr, model, train_loader, val_loader, \n",
        "                  weight_decay=0, grad_clip=None, opt_func=torch.optim.SGD):\n",
        "    torch.cuda.empty_cache()\n",
        "    history = []\n",
        "    \n",
        "    # Set up cutom optimizer with weight decay\n",
        "    optimizer = opt_func(model.parameters(), max_lr, weight_decay=weight_decay)\n",
        "    # Set up one-cycle learning rate scheduler\n",
        "    sched = torch.optim.lr_scheduler.OneCycleLR(optimizer, max_lr, epochs=epochs, \n",
        "                                                steps_per_epoch=len(train_loader))\n",
        "    \n",
        "    for epoch in range(epochs):\n",
        "        # Training Phase \n",
        "        model.train()\n",
        "        train_losses = []\n",
        "        lrs = []\n",
        "        for batch in train_loader:\n",
        "            loss = model.training_step(batch)\n",
        "            train_losses.append(loss)\n",
        "            loss.backward()\n",
        "            \n",
        "            # Gradient clipping\n",
        "            if grad_clip: \n",
        "                nn.utils.clip_grad_value_(model.parameters(), grad_clip)\n",
        "            \n",
        "            optimizer.step()\n",
        "            optimizer.zero_grad()\n",
        "            \n",
        "            # Record & update learning rate\n",
        "            lrs.append(get_lr(optimizer))\n",
        "            sched.step()\n",
        "        \n",
        "        # Validation phase\n",
        "        result = evaluate(model, val_loader)\n",
        "        result['train_loss'] = torch.stack(train_losses).mean().item()\n",
        "        result['lrs'] = lrs\n",
        "        model.epoch_end(epoch, result)\n",
        "        history.append(result)\n",
        "    return history"
      ]
    },
    {
      "cell_type": "markdown",
      "metadata": {
        "id": "mGbR0ClAJp_S"
      },
      "source": [
        "Before we begin training, let's instantiate the model once again and see how it performs on the validation set with the initial set of parameters."
      ]
    },
    {
      "cell_type": "code",
      "execution_count": 96,
      "metadata": {
        "id": "rWO9y9TrJp_S",
        "colab": {
          "base_uri": "https://localhost:8080/"
        },
        "outputId": "c06c65a9-c557-40b6-9f9c-109d8f06f98d"
      },
      "outputs": [
        {
          "output_type": "execute_result",
          "data": {
            "text/plain": [
              "{'val_loss': 2.8410706520080566, 'val_acc': 0.03125}"
            ]
          },
          "metadata": {},
          "execution_count": 96
        }
      ],
      "source": [
        "history = [evaluate(model, val_dl)]"
      ]
    },
    {
      "cell_type": "markdown",
      "metadata": {
        "id": "WEuauDpwJp_S"
      },
      "source": [
        "The initial accuracy is around 10%, which is what one might expect from a randomly intialized model (since it has a 1 in 17 chance of getting a label right by guessing randomly).\n",
        "\n",
        "We'll use the following *hyperparmeters* (learning rate, no. of epochs, batch_size etc.) to train our model. "
      ]
    },
    {
      "cell_type": "markdown",
      "metadata": {
        "id": "-6lIc9bUJp_S"
      },
      "source": [
        "It's important to record the hyperparameters of every experiment you do, to replicate it later and compare it against other experiments. We can record them using `jovian.log_hyperparams`."
      ]
    },
    {
      "cell_type": "code",
      "execution_count": 97,
      "metadata": {
        "id": "PfD4is6FJp_S"
      },
      "outputs": [],
      "source": [
        "# # # jovian.reset()\n",
        "# jovian.log_hyperparams({\n",
        "#     'arch': arch,\n",
        "#     'num_epochs': num_epochs,\n",
        "#     'opt_func': opt_func.__name__,\n",
        "#     'batch_size': batch_size,\n",
        "#     'lr': lr,\n",
        "# })"
      ]
    },
    {
      "cell_type": "code",
      "source": [
        "# log_dict = {\n",
        "#     'arch': arch,\n",
        "#     'num_epochs': num_epochs,\n",
        "#     'opt_func': 'opt_func.__name__',\n",
        "#     'batch_size': 'batch_size',\n",
        "#     'lr': lr,\n",
        "# }"
      ],
      "metadata": {
        "id": "W5uEt8yFQiR8"
      },
      "execution_count": 98,
      "outputs": []
    },
    {
      "cell_type": "code",
      "execution_count": 99,
      "metadata": {
        "id": "HdSA8RWDJp_S"
      },
      "outputs": [],
      "source": [
        "epochs = 30\n",
        "max_lr = 0.01\n",
        "grad_clip = 0.1\n",
        "weight_decay = 1e-4\n",
        "opt_func = torch.optim.Adam"
      ]
    },
    {
      "cell_type": "code",
      "source": [
        "model;"
      ],
      "metadata": {
        "id": "-aZpqNuZ6bR0"
      },
      "execution_count": 100,
      "outputs": []
    },
    {
      "cell_type": "code",
      "execution_count": 101,
      "metadata": {
        "colab": {
          "base_uri": "https://localhost:8080/"
        },
        "id": "vZK4Y2XrJp_T",
        "outputId": "6c9d4e71-eaf9-4cec-c07a-09495b971d8c"
      },
      "outputs": [
        {
          "output_type": "stream",
          "name": "stdout",
          "text": [
            "Epoch [0], train_loss: 2.3898, val_loss: 2.8641, val_acc: 0.3438\n",
            "Epoch [1], train_loss: 1.6009, val_loss: 3.7926, val_acc: 0.3313\n",
            "Epoch [2], train_loss: 1.5818, val_loss: 3.9080, val_acc: 0.3438\n",
            "Epoch [3], train_loss: 1.5940, val_loss: 4.3538, val_acc: 0.3250\n",
            "Epoch [4], train_loss: 1.7653, val_loss: 5.9834, val_acc: 0.2531\n",
            "Epoch [5], train_loss: 1.7412, val_loss: 7.2491, val_acc: 0.2313\n",
            "Epoch [6], train_loss: 1.9415, val_loss: 2.4639, val_acc: 0.4750\n",
            "Epoch [7], train_loss: 1.7179, val_loss: 2.4951, val_acc: 0.4187\n",
            "Epoch [8], train_loss: 1.5437, val_loss: 1.9638, val_acc: 0.4781\n",
            "Epoch [9], train_loss: 1.6619, val_loss: 2.1295, val_acc: 0.4969\n",
            "Epoch [10], train_loss: 1.4488, val_loss: 1.4156, val_acc: 0.5938\n",
            "Epoch [11], train_loss: 0.9365, val_loss: 1.2688, val_acc: 0.6250\n",
            "Epoch [12], train_loss: 0.9901, val_loss: 1.2862, val_acc: 0.6469\n",
            "Epoch [13], train_loss: 0.8793, val_loss: 1.3977, val_acc: 0.6281\n",
            "Epoch [14], train_loss: 0.8721, val_loss: 1.4173, val_acc: 0.6531\n",
            "Epoch [15], train_loss: 0.7423, val_loss: 1.0144, val_acc: 0.6750\n",
            "Epoch [16], train_loss: 0.6070, val_loss: 1.4037, val_acc: 0.5938\n",
            "Epoch [17], train_loss: 0.4715, val_loss: 1.2585, val_acc: 0.6687\n",
            "Epoch [18], train_loss: 0.4549, val_loss: 0.9983, val_acc: 0.7406\n",
            "Epoch [19], train_loss: 0.3644, val_loss: 0.9075, val_acc: 0.7000\n",
            "Epoch [20], train_loss: 0.3629, val_loss: 0.8805, val_acc: 0.7656\n",
            "Epoch [21], train_loss: 0.2436, val_loss: 0.8139, val_acc: 0.7656\n",
            "Epoch [22], train_loss: 0.1919, val_loss: 0.8784, val_acc: 0.7531\n",
            "Epoch [23], train_loss: 0.1824, val_loss: 0.7035, val_acc: 0.8000\n",
            "Epoch [24], train_loss: 0.1556, val_loss: 0.6993, val_acc: 0.8094\n",
            "Epoch [25], train_loss: 0.1045, val_loss: 0.6679, val_acc: 0.8188\n",
            "Epoch [26], train_loss: 0.0981, val_loss: 0.6997, val_acc: 0.7969\n",
            "Epoch [27], train_loss: 0.0932, val_loss: 0.6381, val_acc: 0.8125\n",
            "Epoch [28], train_loss: 0.0810, val_loss: 0.6692, val_acc: 0.8031\n",
            "Epoch [29], train_loss: 0.0935, val_loss: 0.6754, val_acc: 0.7937\n",
            "CPU times: user 17.7 s, sys: 9.06 s, total: 26.7 s\n",
            "Wall time: 4min 8s\n"
          ]
        }
      ],
      "source": [
        "%%time\n",
        "history += fit_one_cycle(epochs, max_lr, model, train_dl, val_dl, \n",
        "                             grad_clip=grad_clip, \n",
        "                             weight_decay=weight_decay, \n",
        "                             opt_func=opt_func)"
      ]
    },
    {
      "cell_type": "markdown",
      "metadata": {
        "id": "bhybBuPkJp_T"
      },
      "source": [
        "Just as we have recorded the hyperparameters, we can also record the final metrics achieved by the model using `jovian.log_metrics` for reference, analysis and comparison."
      ]
    },
    {
      "cell_type": "code",
      "execution_count": 102,
      "metadata": {
        "id": "z5Kxuq9EJp_T"
      },
      "outputs": [],
      "source": [
        "# jovian.log_metrics(train_loss=history[-1]['train_loss'], \n",
        "#                    val_loss=history[-1]['val_loss'], \n",
        "#                    val_acc=history[-1]['val_acc'])"
      ]
    },
    {
      "cell_type": "markdown",
      "metadata": {
        "id": "55K2kRe6Jp_T"
      },
      "source": [
        "We can also plot the valdation set accuracies to study how the model improves over time."
      ]
    },
    {
      "cell_type": "code",
      "execution_count": 103,
      "metadata": {
        "id": "UP7E5_GhJp_T"
      },
      "outputs": [],
      "source": [
        "def plot_accuracies(history):\n",
        "    accuracies = [x['val_acc'] for x in history]\n",
        "    plt.plot(accuracies, '-x')\n",
        "    plt.xlabel('epoch')\n",
        "    plt.ylabel('accuracy')\n",
        "    plt.title('Accuracy vs. No. of epochs');"
      ]
    },
    {
      "cell_type": "code",
      "execution_count": 104,
      "metadata": {
        "colab": {
          "base_uri": "https://localhost:8080/",
          "height": 295
        },
        "id": "KYgnxqQQJp_T",
        "outputId": "93aede21-db83-455a-e882-f15b126929a5"
      },
      "outputs": [
        {
          "output_type": "display_data",
          "data": {
            "text/plain": [
              "<Figure size 432x288 with 1 Axes>"
            ],
            "image/png": "[encoded data removed]"
          },
          "metadata": {}
        }
      ],
      "source": [
        "plot_accuracies(history)"
      ]
    },
    {
      "cell_type": "markdown",
      "metadata": {
        "id": "dPmvnBsaJp_T"
      },
      "source": [
        "Our model reaches an accuracy of around 75%, and by looking at the graph, it seems unlikely that the model will achieve an accuracy higher than 80% even after training for a long time. This suggests that we might need to use a more powerful model to capture the relationship between the images and the labels more accurately. This can be done by adding more convolutional layers to our model, or incrasing the no. of channels in each convolutional layer, or by using regularization techniques.\n",
        "\n",
        "We can also plot the training and validation losses to study the trend."
      ]
    },
    {
      "cell_type": "code",
      "execution_count": 105,
      "metadata": {
        "id": "Oefp3XHjJp_U"
      },
      "outputs": [],
      "source": [
        "def plot_losses(history):\n",
        "    train_losses = [x.get('train_loss') for x in history]\n",
        "    val_losses = [x['val_loss'] for x in history]\n",
        "    plt.plot(train_losses, '-bx')\n",
        "    plt.plot(val_losses, '-rx')\n",
        "    plt.xlabel('epoch')\n",
        "    plt.ylabel('loss')\n",
        "    plt.legend(['Training', 'Validation'])\n",
        "    plt.title('Loss vs. No. of epochs');"
      ]
    },
    {
      "cell_type": "code",
      "execution_count": 106,
      "metadata": {
        "colab": {
          "base_uri": "https://localhost:8080/",
          "height": 295
        },
        "id": "KBpeN5YhJp_U",
        "outputId": "b866d043-34c1-4132-8c8d-f19a6e1211ff"
      },
      "outputs": [
        {
          "output_type": "display_data",
          "data": {
            "text/plain": [
              "<Figure size 432x288 with 1 Axes>"
            ],
            "image/png": "[encoded data removed]"
          },
          "metadata": {}
        }
      ],
      "source": [
        "plot_losses(history)"
      ]
    },
    {
      "cell_type": "markdown",
      "metadata": {
        "id": "v0ZkttR-Jp_U"
      },
      "source": [
        "Initialy, both the training and validation losses seem to decrease over time. However, if you train the model for long enough, you will notice that the training loss continues to decrease, while the validation loss stops decreasing, and even starts to increase after a certain point! \n",
        "\n",
        "<img src=\"https://i.stack.imgur.com/1QU0m.png\" style=\"max-width:400px;\">\n",
        "\n",
        "This phenomenon is called **overfitting**, and it is the no. 1 why many machine learning models give rather terrible results on real-world data. It happens because the model, in an attempt to minimize the loss, starts to learn patters are are unique to the training data, sometimes even memorizing specific training examples. Because of this, the model does not generalize well to previously unseen data.\n",
        "\n",
        "\n",
        "Following are some common stragegies for avoiding overfitting:\n",
        "\n",
        "- Gathering and generating more training data, or adding noise to it\n",
        "- Using regularization techniques like batch normalization & dropout\n",
        "- Early stopping of model's training, when validation loss starts to increase\n",
        "\n",
        "We will cover these topics in more detail in the next tutorial in this series, and learn how we can reach an accuracy of **over 90%** by making minor but important changes to our model."
      ]
    },
    {
      "cell_type": "markdown",
      "metadata": {
        "id": "my239tuTJp_U"
      },
      "source": [
        "Before continuing, let us save our work to the cloud using `jovian.commit`."
      ]
    },
    {
      "cell_type": "markdown",
      "metadata": {
        "id": "IqN4ozY6Jp_U"
      },
      "source": [
        "## Testing with individual images\n",
        "\n",
        "While we have been tracking the overall accuracy of a model so far, it's also a good idea to look at model's results on some sample images. Let's test out our model with some images from the predefined test dataset of 10000 images. We begin by creating a test dataset using the `ImageFolder` class.\n",
        "\n"
      ]
    },
    {
      "cell_type": "code",
      "execution_count": 107,
      "metadata": {
        "id": "7stwSbarJp_U"
      },
      "outputs": [],
      "source": [
        "# test_dataset = ImageFolder(data_dir+'/test', transform=ToTensor())"
      ]
    },
    {
      "cell_type": "markdown",
      "metadata": {
        "id": "ckEBASy7Jp_U"
      },
      "source": [
        "Let's define a helper function `predict_image`, which returns the predicted label for a single image tensor."
      ]
    },
    {
      "cell_type": "code",
      "execution_count": 108,
      "metadata": {
        "id": "QidsbfBLJp_U"
      },
      "outputs": [],
      "source": [
        "def predict_image(img, model):\n",
        "    # Convert to a batch of 1\n",
        "    xb = to_device(img.unsqueeze(0), device)\n",
        "    # Get predictions from model\n",
        "    yb = model(xb)\n",
        "    # Pick index with highest probability\n",
        "    _, preds  = torch.max(yb, dim=1)\n",
        "    # Retrieve the class label\n",
        "    return dataset.classes[preds[0].item()]"
      ]
    },
    {
      "cell_type": "code",
      "execution_count": 109,
      "metadata": {
        "id": "C_fkqvIDJp_V",
        "colab": {
          "base_uri": "https://localhost:8080/",
          "height": 301
        },
        "outputId": "e7127175-3e78-4787-9861-446054c0df68"
      },
      "outputs": [
        {
          "output_type": "stream",
          "name": "stderr",
          "text": [
            "WARNING:matplotlib.image:Clipping input data to the valid range for imshow with RGB data ([0..1] for floats or [0..255] for integers).\n"
          ]
        },
        {
          "output_type": "stream",
          "name": "stdout",
          "text": [
            "Label: Cowslip , Predicted: Lilyvalley\n"
          ]
        },
        {
          "output_type": "display_data",
          "data": {
            "text/plain": [
              "<Figure size 432x288 with 1 Axes>"
            ],
            "image/png": "[encoded data removed]"
          },
          "metadata": {}
        }
      ],
      "source": [
        "img, label = test_ds[0]\n",
        "plt.imshow(img.permute(1, 2, 0))\n",
        "print('Label:', dataset.classes[label], ', Predicted:', predict_image(img, model))"
      ]
    },
    {
      "cell_type": "code",
      "execution_count": 110,
      "metadata": {
        "id": "dNlbM9l7Jp_V",
        "colab": {
          "base_uri": "https://localhost:8080/",
          "height": 301
        },
        "outputId": "72999d7e-e4e5-4ca8-b99b-dbc6b13dd458"
      },
      "outputs": [
        {
          "output_type": "stream",
          "name": "stderr",
          "text": [
            "WARNING:matplotlib.image:Clipping input data to the valid range for imshow with RGB data ([0..1] for floats or [0..255] for integers).\n"
          ]
        },
        {
          "output_type": "stream",
          "name": "stdout",
          "text": [
            "Label: Coltsfoot , Predicted: Coltsfoot\n"
          ]
        },
        {
          "output_type": "display_data",
          "data": {
            "text/plain": [
              "<Figure size 432x288 with 1 Axes>"
            ],
            "image/png": "[encoded data removed]"
          },
          "metadata": {}
        }
      ],
      "source": [
        "img, label = test_ds[10]\n",
        "plt.imshow(img.permute(1, 2, 0))\n",
        "print('Label:', dataset.classes[label], ', Predicted:', predict_image(img, model))"
      ]
    },
    {
      "cell_type": "code",
      "execution_count": 111,
      "metadata": {
        "id": "GT5bNsj2Jp_V",
        "colab": {
          "base_uri": "https://localhost:8080/",
          "height": 301
        },
        "outputId": "2fac94ea-d054-4278-faad-b438ce423a0e"
      },
      "outputs": [
        {
          "output_type": "stream",
          "name": "stderr",
          "text": [
            "WARNING:matplotlib.image:Clipping input data to the valid range for imshow with RGB data ([0..1] for floats or [0..255] for integers).\n"
          ]
        },
        {
          "output_type": "stream",
          "name": "stdout",
          "text": [
            "Label: Pansy , Predicted: Pansy\n"
          ]
        },
        {
          "output_type": "display_data",
          "data": {
            "text/plain": [
              "<Figure size 432x288 with 1 Axes>"
            ],
            "image/png": "[encoded data removed]"
          },
          "metadata": {}
        }
      ],
      "source": [
        "img, label = test_ds[61]\n",
        "plt.imshow(img.permute(1, 2, 0))\n",
        "print('Label:', dataset.classes[label], ', Predicted:', predict_image(img, model))"
      ]
    },
    {
      "cell_type": "markdown",
      "metadata": {
        "id": "yqZv8qKPJp_V"
      },
      "source": [
        "Identifying where our model performs poorly can help us improve the model, by collecting more training data, increasing/decreasing the complexity of the model, and changing the hypeparameters.\n",
        "\n",
        "As a final step, let's also look at the overall loss and accuracy of the model on the test set, and record using `jovian`. We expect these values to be similar to those for the validation set. If not, we might need a better validation set that has similar data and distribution as the test set (which often comes from real world data)."
      ]
    },
    {
      "cell_type": "code",
      "execution_count": 112,
      "metadata": {
        "id": "-1hjzFhUJp_V",
        "colab": {
          "base_uri": "https://localhost:8080/"
        },
        "outputId": "016c08a6-41fc-480e-e496-7a15c4167a0f"
      },
      "outputs": [
        {
          "output_type": "execute_result",
          "data": {
            "text/plain": [
              "{'val_loss': 0.7409374713897705, 'val_acc': 0.7905092239379883}"
            ]
          },
          "metadata": {},
          "execution_count": 112
        }
      ],
      "source": [
        "test_loader = DeviceDataLoader(DataLoader(test_ds, batch_size*2), device)\n",
        "result = evaluate(model, test_loader)\n",
        "result"
      ]
    },
    {
      "cell_type": "code",
      "execution_count": 113,
      "metadata": {
        "id": "ACxJDNG9Jp_V",
        "colab": {
          "base_uri": "https://localhost:8080/",
          "height": 165
        },
        "outputId": "16c95def-c27e-439f-9de8-00212cf49b1c"
      },
      "outputs": [
        {
          "output_type": "error",
          "ename": "NameError",
          "evalue": "ignored",
          "traceback": [
            "\u001b[0;31m---------------------------------------------------------------------------\u001b[0m",
            "\u001b[0;31mNameError\u001b[0m                                 Traceback (most recent call last)",
            "\u001b[0;32m<ipython-input-113-73dd45b4baf5>\u001b[0m in \u001b[0;36m<module>\u001b[0;34m\u001b[0m\n\u001b[0;32m----> 1\u001b[0;31m \u001b[0mjovian\u001b[0m\u001b[0;34m.\u001b[0m\u001b[0mlog_metrics\u001b[0m\u001b[0;34m(\u001b[0m\u001b[0mtest_loss\u001b[0m\u001b[0;34m=\u001b[0m\u001b[0mresult\u001b[0m\u001b[0;34m[\u001b[0m\u001b[0;34m'val_loss'\u001b[0m\u001b[0;34m]\u001b[0m\u001b[0;34m,\u001b[0m \u001b[0mtest_acc\u001b[0m\u001b[0;34m=\u001b[0m\u001b[0mresult\u001b[0m\u001b[0;34m[\u001b[0m\u001b[0;34m'val_acc'\u001b[0m\u001b[0;34m]\u001b[0m\u001b[0;34m)\u001b[0m\u001b[0;34m\u001b[0m\u001b[0;34m\u001b[0m\u001b[0m\n\u001b[0m",
            "\u001b[0;31mNameError\u001b[0m: name 'jovian' is not defined"
          ]
        }
      ],
      "source": [
        "jovian.log_metrics(test_loss=result['val_loss'], test_acc=result['val_acc'])"
      ]
    },
    {
      "cell_type": "markdown",
      "metadata": {
        "id": "Smk8znXkJp_W"
      },
      "source": [
        "## Saving and loading the model\n",
        "\n",
        "Since we've trained our model for a long time and achieved a resonable accuracy, it would be a good idea to save the weights of the model to disk, so that we can reuse the model later and avoid retraining from scratch. Here's how you can save the model."
      ]
    },
    {
      "cell_type": "code",
      "execution_count": null,
      "metadata": {
        "id": "WLLm-pIyJp_W"
      },
      "outputs": [],
      "source": [
        "torch.save(model.state_dict(), '17flowers_cnn.pth')"
      ]
    },
    {
      "cell_type": "markdown",
      "metadata": {
        "id": "WsxZJi5fJp_W"
      },
      "source": [
        "The `.state_dict` method returns an `OrderedDict` containing all the weights and bias matrices mapped to the right attributes of the model. To load the model weights, we can redefine the model with the same structure, and use the `.load_state_dict` method."
      ]
    },
    {
      "cell_type": "code",
      "execution_count": null,
      "metadata": {
        "id": "Mb9KOT7GJp_W"
      },
      "outputs": [],
      "source": [
        "model2 = to_device(flowers17ResNet9(), device)"
      ]
    },
    {
      "cell_type": "code",
      "execution_count": null,
      "metadata": {
        "id": "TFCWPlalJp_W"
      },
      "outputs": [],
      "source": [
        "model2.load_state_dict(torch.load('17flowers_cnn.pth'))"
      ]
    },
    {
      "cell_type": "markdown",
      "metadata": {
        "id": "o53KprzHJp_W"
      },
      "source": [
        "Just as a sanity check, let's verify that this model has the same loss and accuracy on the test set as before."
      ]
    },
    {
      "cell_type": "code",
      "execution_count": null,
      "metadata": {
        "id": "YAtV9ZOqJp_W"
      },
      "outputs": [],
      "source": [
        "evaluate(model2, test_loader)"
      ]
    },
    {
      "cell_type": "markdown",
      "metadata": {
        "id": "nrqd6TsvJp_X"
      },
      "source": [
        "Let's make one final commit using `jovian`."
      ]
    },
    {
      "cell_type": "markdown",
      "metadata": {
        "id": "uAESHPLiJp_X"
      },
      "source": [
        "## Summary and Further Reading/Exercises\n",
        "\n",
        "We've covered a lot of ground in this tutorial. Here's quick recap of the topics:\n",
        "* Introduction to the CIFAR10 dataset for image classification\n",
        "* Downloading, extracing and loading an image dataset using `torchvision`\n",
        "* Show random batches of images in a grid using `torchvision.utils.make_grid`\n",
        "* Creating a convolutional neural network using with `nn.Conv2d` and `nn.MaxPool2d` layers\n",
        "* Capturing dataset information, metrics and hyperparameters using the `jovian` library\n",
        "* Training a convolutional neural network and visualizing the losses and errors\n",
        "* Understanding overfitting and the strategies for avoiding it (more on this later)\n",
        "* Generating predictions on single images from the test set\n",
        "* Saving and loading the model weights, and attaching them to the eperiment snaptshot using `jovian`\n",
        "\n",
        "There's a lot of scope to experiment here, and I encourage you to use the interactive nature of Jupyter to play around with the various parameters. Here are a few ideas:\n",
        "* Try chaging the hyperparameters to achieve a higher accuracy within fewer epochs. You use the comparison table on the Jovian.ml project page to compare your experiments.\n",
        "* Try adding more convolutional layers, or increasing the number of channels in each convolutional layer\n",
        "* Try using a feedforward neural network and see what's the maximum accuracy you can achieve\n",
        "* Read about some of the startegies mentioned above for reducing overfitting and achieving better results, and try to implement them by looking into the PyTorch docs.\n",
        "* Modify this notebook to train a model for a different dataset (e.g. CIFAR100 or ImageNet)\n",
        "\n",
        "In the next tutorial, we will continue to improve our model's accuracy using techniques like data augmentation, batch normalization and dropout. We will also learn about residual networks (or ResNets), a small but critical change to the model architecture that will significantly boost the performance of our model. Stay tuned!"
      ]
    }
  ],
  "metadata": {
    "accelerator": "GPU",
    "colab": {
      "provenance": [],
      "include_colab_link": true
    },
    "gpuClass": "standard",
    "kernelspec": {
      "display_name": "Python 3",
      "language": "python",
      "name": "python3"
    },
    "language_info": {
      "codemirror_mode": {
        "name": "ipython",
        "version": 3
      },
      "file_extension": ".py",
      "mimetype": "text/x-python",
      "name": "python",
      "nbconvert_exporter": "python",
      "pygments_lexer": "ipython3",
      "version": "3.7.6"
    }
  },
  "nbformat": 4,
  "nbformat_minor": 0
}